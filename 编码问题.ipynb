{
 "cells": [
  {
   "cell_type": "markdown",
   "metadata": {},
   "source": [
    "### 编码表示方法\n",
    "- ASCII - american standard code for information interchange\n",
    "    - 所有控制字符（包括回车，删除等）编码在 0 - 31范围以及127\n",
    "    - 所有标点符号，英文大小写放在 32 - 126之间\n",
    "    - 预留128 - 255之间的位置\n",
    "    - 0xxx  xxxx 是它的编码形式\n",
    "- Latin1\n",
    "    - 0 - 127的所有位置不动，那么可以兼容ASCII ， 二进制位 0XXX \n",
    "    - 188 - 255位置全部用完，二进制位 1XXX XXXX\n",
    "        - 128 - 159之间为控制字符\n",
    "        - 160 - 255位文字符号\n",
    "        - 其中包括了西欧语言，希腊语，泰语，阿拉伯语，希伯来语\n",
    "    - 欧元符号用Latin1不能表示\n",
    "- GB-xxx\n",
    "    - GB2312\n",
    "        - 如果一个字节中第一位为0，那么这就一个ASCII字符\n",
    "        - 如果一个字节中第一位为1，那么这个是汉字，认定需要2个字节才表示以一个编码的文字\n",
    "        - 这个码表中包含汉字 6763 个和非汉字图形字符682个\n",
    "        - 0xxxxxx：表示ASCII字符\n",
    "        - 1xxxxx  1xxxxx 表示为汉字\n",
    "- GBK\n",
    "    - 在GB2312基础上添加汉字\n",
    "    - 兼任GB2312和ASCII\n",
    "    - 0xxxxxx：表示ASCII字符\n",
    "    - 1xxxxxx  xxxxxx 表示汉字\n",
    "- GB18030\n",
    "    - 2/4位混编\n",
    "       \n",
    "\n",
    "\n",
    "    "
   ]
  },
  {
   "cell_type": "code",
   "execution_count": null,
   "metadata": {},
   "outputs": [],
   "source": []
  },
  {
   "cell_type": "code",
   "execution_count": null,
   "metadata": {},
   "outputs": [],
   "source": []
  },
  {
   "cell_type": "markdown",
   "metadata": {},
   "source": [
    "### Unicode编码\n",
    "- 只是一个码表，具体实现没有规定\n",
    "- 0 - 0x10FFFF来映射这些字符，最多可以容纳1114112个字符\n",
    "- 中文编码范围为 4E00-9FCF\n",
    "- 上述编码范围只包含中文汉字，不包含全角字符，不包含特殊符号\n",
    "- UTF=UnicodeTransformationFormat\n",
    "- UTF-8(常用）\n",
    "- UTF-16 Unicone历史遗留问题（不常用）\n",
    "- UTF-32 浪费空间（不常用）\n"
   ]
  },
  {
   "cell_type": "code",
   "execution_count": null,
   "metadata": {},
   "outputs": [],
   "source": []
  },
  {
   "cell_type": "markdown",
   "metadata": {},
   "source": [
    "- UCS-2\n",
    "    - UCS=UniversalCharacterSet，通用字符集\n",
    "    - UCS-2 与Unicode相同\n",
    "    - 采用2个字节，定长的表示每一个字符，所以总计可以表示2^16个字符\n",
    "- UCS-4\n",
    "    - 第一个字节，表示组（group），最高位为0，则有128个\n",
    "    - 第二个字节，表示平面（plane），256个\n",
    "    - 第三个字节，表示行（row），256个\n",
    "    - 第四个字节，表示码位（cell），256个\n",
    "    - 如果UCS-4前两个字节为0，则就是UCS-2"
   ]
  },
  {
   "cell_type": "markdown",
   "metadata": {},
   "source": [
    "# 常用概念\n",
    "- 编码/解码：由人类可直接读取信息转换成bytes格式的，叫编码，\n",
    "- 大尾(BigEndian)和小尾（LittleEndian）问题\n",
    "    - ‘汉’-> 6C49\n",
    "    - 496C -> LittleEndian\n",
    "    - 6C59 -> BigEndian\n",
    "- BOM\n",
    "    - UTF-8 没有字节顺序问题\n",
    "    - UTF-16 会出现问题\n",
    "        - ”奎“ -> 594E\n",
    "        - ”乙“ -> 4E59\n",
    "    - BOM-Byre0rderMark\n",
    "        - ”zero width no-break space”-> FEFF，在UCS中不存在\n",
    "        - FEFF -> 大尾\n",
    "        - FFFE -> 小尾\n",
    "        - UTF-8 用来表示编码，FEFF的UTF-8编码是 EF BB BF， 用来表示此后编码是UTF-8\n",
    "        "
   ]
  }
 ],
 "metadata": {
  "kernelspec": {
   "display_name": "Python 3",
   "language": "python",
   "name": "python3"
  },
  "language_info": {
   "codemirror_mode": {
    "name": "ipython",
    "version": 3
   },
   "file_extension": ".py",
   "mimetype": "text/x-python",
   "name": "python",
   "nbconvert_exporter": "python",
   "pygments_lexer": "ipython3",
   "version": "3.6.5"
  }
 },
 "nbformat": 4,
 "nbformat_minor": 2
}
