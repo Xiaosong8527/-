{
 "cells": [
  {
   "cell_type": "markdown",
   "metadata": {},
   "source": [
    "# 常用模块\n",
    "- celendar\n",
    "- time\n",
    "- datetime\n",
    "- timeit\n",
    "- os\n",
    "- shutil\n",
    "- zip\n",
    "- math\n",
    "- string\n",
    "- 所有模块使用的时候理论上都应该先导入，string 是特例\n",
    "- celendar，time , datetime的区别参考中文意思"
   ]
  },
  {
   "cell_type": "markdown",
   "metadata": {},
   "source": [
    "# calendar\n",
    "- 跟日历相关的模块"
   ]
  },
  {
   "cell_type": "code",
   "execution_count": 8,
   "metadata": {},
   "outputs": [],
   "source": [
    "# 使用需要先导入\n",
    "import calendar\n",
    "# calendar ： 获取一年的日历字符换\n",
    "# 参数\n",
    "# w = 每个日期之间的间隔字符\n",
    "# l = 每周所占用的函数\n",
    "# c = 每个月之间的间隔字符数\n",
    "cal = calendar.calendar(2017)\n",
    "print(cal)\n",
    "cal = calendar.calendar(2017, l = 0, c = 5)"
   ]
  },
  {
   "cell_type": "code",
   "execution_count": 10,
   "metadata": {},
   "outputs": [
    {
     "data": {
      "text/plain": [
       "True"
      ]
     },
     "execution_count": 10,
     "metadata": {},
     "output_type": "execute_result"
    }
   ],
   "source": [
    "# isleap:判断某一年是否闰年\n",
    "# 函数中函数名只要用is开头肯定是一个判断\n",
    "calendar.isleap(2000)"
   ]
  },
  {
   "cell_type": "code",
   "execution_count": 11,
   "metadata": {},
   "outputs": [
    {
     "data": {
      "text/plain": [
       "5"
      ]
     },
     "execution_count": 11,
     "metadata": {},
     "output_type": "execute_result"
    }
   ],
   "source": [
    "# leapdays :获取指定年份之间的闰年个数\n",
    "calendar.leapdays(1998,2018)"
   ]
  },
  {
   "cell_type": "code",
   "execution_count": 15,
   "metadata": {},
   "outputs": [
    {
     "name": "stdout",
     "output_type": "stream",
     "text": [
      "Help on function leapdays in module calendar:\n",
      "\n",
      "leapdays(y1, y2)\n",
      "    Return number of leap years in range [y1, y2).\n",
      "    Assume y1 <= y2.\n",
      "\n"
     ]
    }
   ],
   "source": [
    "help(calendar.leapdays)\n",
    "# 帮助文档，[y1, y2) 包含左边的不包含右边的\n",
    "# Assume y1 <= y2  括号中左边的参数一定是小于右边的参数"
   ]
  },
  {
   "cell_type": "code",
   "execution_count": 24,
   "metadata": {},
   "outputs": [
    {
     "name": "stdout",
     "output_type": "stream",
     "text": [
      "     March 2018\n",
      "Mo Tu We Th Fr Sa Su\n",
      "          1  2  3  4\n",
      " 5  6  7  8  9 10 11\n",
      "12 13 14 15 16 17 18\n",
      "19 20 21 22 23 24 25\n",
      "26 27 28 29 30 31\n",
      "\n"
     ]
    }
   ],
   "source": [
    "# month() 获取某个月日历的字符串\n",
    "# 格式：calendar.month(年，月)\n",
    "# 回值：月日历的字符串\n",
    "m3 = calendar.month(2018,3)\n",
    "print(m3)"
   ]
  },
  {
   "cell_type": "code",
   "execution_count": 26,
   "metadata": {},
   "outputs": [
    {
     "name": "stdout",
     "output_type": "stream",
     "text": [
      "2\n",
      "31\n"
     ]
    }
   ],
   "source": [
    "# monthrange() 获取一个月的周几开始即和天数\n",
    "# 格式： calendar.monthrange(年，月)\n",
    "# 回值：元组，（周几开始，总天数）\n",
    "# 注意：周默认 0-6 便是周一到周日\n",
    "w,t = calendar.monthrange(2017,3)\n",
    "print(w)\n",
    "print(t)"
   ]
  },
  {
   "cell_type": "code",
   "execution_count": 28,
   "metadata": {},
   "outputs": [
    {
     "name": "stdout",
     "output_type": "stream",
     "text": [
      "[[0, 0, 0, 1, 2, 3, 4], [5, 6, 7, 8, 9, 10, 11], [12, 13, 14, 15, 16, 17, 18], [19, 20, 21, 22, 23, 24, 25], [26, 27, 28, 29, 30, 31, 0]]\n",
      "<class 'list'>\n"
     ]
    }
   ],
   "source": [
    "# monthcalendar() ：返回一个月每天的矩阵列表\n",
    "# 格式： calendar.monthcalendar(年，月)\n",
    "# 回值：二级列表\n",
    "# 注意：矩阵中没有天数用0表示\n",
    "m = calendar.monthcalendar(2018,3)\n",
    "print(m)\n",
    "print(type(m)) # 返回一个 list ，list 中嵌套 list"
   ]
  },
  {
   "cell_type": "code",
   "execution_count": 32,
   "metadata": {},
   "outputs": [
    {
     "name": "stdout",
     "output_type": "stream",
     "text": [
      "                                  2018\n",
      "\n",
      "      January                   February                   March\n",
      "Mo Tu We Th Fr Sa Su      Mo Tu We Th Fr Sa Su      Mo Tu We Th Fr Sa Su\n",
      " 1  2  3  4  5  6  7                1  2  3  4                1  2  3  4\n",
      " 8  9 10 11 12 13 14       5  6  7  8  9 10 11       5  6  7  8  9 10 11\n",
      "15 16 17 18 19 20 21      12 13 14 15 16 17 18      12 13 14 15 16 17 18\n",
      "22 23 24 25 26 27 28      19 20 21 22 23 24 25      19 20 21 22 23 24 25\n",
      "29 30 31                  26 27 28                  26 27 28 29 30 31\n",
      "\n",
      "       April                      May                       June\n",
      "Mo Tu We Th Fr Sa Su      Mo Tu We Th Fr Sa Su      Mo Tu We Th Fr Sa Su\n",
      "                   1          1  2  3  4  5  6                   1  2  3\n",
      " 2  3  4  5  6  7  8       7  8  9 10 11 12 13       4  5  6  7  8  9 10\n",
      " 9 10 11 12 13 14 15      14 15 16 17 18 19 20      11 12 13 14 15 16 17\n",
      "16 17 18 19 20 21 22      21 22 23 24 25 26 27      18 19 20 21 22 23 24\n",
      "23 24 25 26 27 28 29      28 29 30 31               25 26 27 28 29 30\n",
      "30\n",
      "\n",
      "        July                     August                  September\n",
      "Mo Tu We Th Fr Sa Su      Mo Tu We Th Fr Sa Su      Mo Tu We Th Fr Sa Su\n",
      "                   1             1  2  3  4  5                      1  2\n",
      " 2  3  4  5  6  7  8       6  7  8  9 10 11 12       3  4  5  6  7  8  9\n",
      " 9 10 11 12 13 14 15      13 14 15 16 17 18 19      10 11 12 13 14 15 16\n",
      "16 17 18 19 20 21 22      20 21 22 23 24 25 26      17 18 19 20 21 22 23\n",
      "23 24 25 26 27 28 29      27 28 29 30 31            24 25 26 27 28 29 30\n",
      "30 31\n",
      "\n",
      "      October                   November                  December\n",
      "Mo Tu We Th Fr Sa Su      Mo Tu We Th Fr Sa Su      Mo Tu We Th Fr Sa Su\n",
      " 1  2  3  4  5  6  7                1  2  3  4                      1  2\n",
      " 8  9 10 11 12 13 14       5  6  7  8  9 10 11       3  4  5  6  7  8  9\n",
      "15 16 17 18 19 20 21      12 13 14 15 16 17 18      10 11 12 13 14 15 16\n",
      "22 23 24 25 26 27 28      19 20 21 22 23 24 25      17 18 19 20 21 22 23\n",
      "29 30 31                  26 27 28 29 30            24 25 26 27 28 29 30\n",
      "                                                    31\n",
      "\n",
      "Help on method pryear in module calendar:\n",
      "\n",
      "pryear(theyear, w=0, l=0, c=6, m=3) method of calendar.TextCalendar instance\n",
      "    Print a year's calendar.\n",
      "\n"
     ]
    }
   ],
   "source": [
    "# pracl: 直接打印日历\n",
    "calendar.prcal(2018)\n",
    "help(calendar.prcal)"
   ]
  },
  {
   "cell_type": "code",
   "execution_count": 33,
   "metadata": {},
   "outputs": [
    {
     "name": "stdout",
     "output_type": "stream",
     "text": [
      "     March 2018\n",
      "Mo Tu We Th Fr Sa Su\n",
      "          1  2  3  4\n",
      " 5  6  7  8  9 10 11\n",
      "12 13 14 15 16 17 18\n",
      "19 20 21 22 23 24 25\n",
      "26 27 28 29 30 31\n"
     ]
    }
   ],
   "source": [
    "# prmonth() 直接打印整个月的日历\n",
    "# 格式：calendar.prmonh(年，月）\n",
    "# 返回值：None\n",
    "calendar.prmonth(2018,3)"
   ]
  },
  {
   "cell_type": "code",
   "execution_count": 34,
   "metadata": {},
   "outputs": [
    {
     "data": {
      "text/plain": [
       "5"
      ]
     },
     "execution_count": 34,
     "metadata": {},
     "output_type": "execute_result"
    }
   ],
   "source": [
    "# weekday() 获取周几\n",
    "# 格式： calendar.weekday(年，月，日)\n",
    "# 返回值：周几对应的数字\n",
    "calendar.weekday(2018,10,13)\n",
    "# 按照 0 = 周一，结果为 5 表示 周六"
   ]
  },
  {
   "cell_type": "markdown",
   "metadata": {},
   "source": [
    "# time 模块\n",
    "- 时间戳\n",
    "    - 一个时间表示，根据不同语言，可以是整数或者浮点数\n",
    "    - 是从 1970 年 1 月 1 日 0 时 0 分 0 秒到现在经理的秒数\n",
    "    - 如果表示的时间是 1970 年以前或者太遥远的未来，可能出现异常\n",
    "    - 32位操作系统能够支持到 2038 年\n",
    "- UTC时间\n",
    "    - UTC时间称为世界协调时间，以英国的格林尼治天文所在地区的时间作为参考时间，也叫做世界标准时间。\n",
    "    - 中国时间是 UTC+8 东八区\n",
    "- 夏令时时间\n",
    "    - 夏令时就是在夏天的时候将时间调快一个小时，本质还是24小时\n",
    "- 时间元组\n",
    "    - 一个包含时间内容的普通元组\n"
   ]
  },
  {
   "cell_type": "code",
   "execution_count": 35,
   "metadata": {},
   "outputs": [],
   "source": [
    "# 需要单独导入\n",
    "import time"
   ]
  },
  {
   "cell_type": "code",
   "execution_count": 113,
   "metadata": {},
   "outputs": [
    {
     "name": "stdout",
     "output_type": "stream",
     "text": [
      "-28800\n"
     ]
    }
   ],
   "source": [
    "# 时间模块的属性\n",
    "# timezone：但因出当前时区和UTC时间相差得秒数，在没有夏令时的情况下的间隔\n",
    "# 东八区的是 -28800\n",
    "print(time.timezone)"
   ]
  },
  {
   "cell_type": "code",
   "execution_count": 37,
   "metadata": {},
   "outputs": [
    {
     "name": "stdout",
     "output_type": "stream",
     "text": [
      "-32400\n"
     ]
    }
   ],
   "source": [
    "# altzone : 获取当前时区与UTC时间相差秒数，有夏令时的情况下\n",
    "print(time.altzone)"
   ]
  },
  {
   "cell_type": "code",
   "execution_count": 39,
   "metadata": {},
   "outputs": [
    {
     "name": "stdout",
     "output_type": "stream",
     "text": [
      "0\n"
     ]
    }
   ],
   "source": [
    "# daylight: 检测当前是否是夏令时时间状态， 0 表示是\n",
    "print(time.daylight)"
   ]
  },
  {
   "cell_type": "code",
   "execution_count": 98,
   "metadata": {},
   "outputs": [
    {
     "data": {
      "text/plain": [
       "1539401774.2716007"
      ]
     },
     "execution_count": 98,
     "metadata": {},
     "output_type": "execute_result"
    }
   ],
   "source": [
    "# 得到时间戳\n",
    "time.time()"
   ]
  },
  {
   "cell_type": "code",
   "execution_count": 116,
   "metadata": {},
   "outputs": [
    {
     "name": "stdout",
     "output_type": "stream",
     "text": [
      "time.struct_time(tm_year=2018, tm_mon=10, tm_mday=13, tm_hour=11, tm_min=37, tm_sec=23, tm_wday=5, tm_yday=286, tm_isdst=0)\n"
     ]
    }
   ],
   "source": [
    "# time.localtime() ： 返回当前时间\n",
    "t = time.localtime()\n",
    "print(t)"
   ]
  },
  {
   "cell_type": "code",
   "execution_count": 117,
   "metadata": {},
   "outputs": [
    {
     "name": "stdout",
     "output_type": "stream",
     "text": [
      "11\n"
     ]
    }
   ],
   "source": [
    "# \n",
    "t = time.localtime()\n",
    "print(t.tm_hour)# 得到当前时间的时间结构\n",
    "# 可以通过点操作符得到相应的属性内容"
   ]
  },
  {
   "cell_type": "code",
   "execution_count": 120,
   "metadata": {},
   "outputs": [
    {
     "name": "stdout",
     "output_type": "stream",
     "text": [
      "<class 'str'>\n",
      "Sat Oct 13 11:41:23 2018\n"
     ]
    }
   ],
   "source": [
    "# asctime()  返回元组的正常字符串化后的时间格式\n",
    "# 格式： time.asctime(时间元组)\n",
    "# 返回值：字符串 Tue Jun 6 11:11:00 2017\n",
    "t = time.localtime()\n",
    "tt = time.asctime(t)\n",
    "print(type(tt))\n",
    "print(tt)"
   ]
  },
  {
   "cell_type": "code",
   "execution_count": 123,
   "metadata": {},
   "outputs": [
    {
     "name": "stdout",
     "output_type": "stream",
     "text": [
      "<class 'str'>\n",
      "Sat Oct 13 11:42:54 2018\n"
     ]
    }
   ],
   "source": [
    "# ctime: 获取字符串化的当前时间\n",
    "t = time.ctime()\n",
    "print(type(t))\n",
    "print(t)"
   ]
  },
  {
   "cell_type": "code",
   "execution_count": 124,
   "metadata": {},
   "outputs": [
    {
     "name": "stdout",
     "output_type": "stream",
     "text": [
      "<class 'float'>\n",
      "1539402262.0\n"
     ]
    }
   ],
   "source": [
    "# mktime()使用时间元组获取对应的时间戳\n",
    "# 格式：time.mktime（时间元组）\n",
    "# 返回值：浮点数时间戳\n",
    "lt = time.localtime()\n",
    "ts = time.mktime(lt)\n",
    "print(type(ts))\n",
    "print(ts)"
   ]
  },
  {
   "cell_type": "code",
   "execution_count": null,
   "metadata": {},
   "outputs": [],
   "source": [
    "# clock：获取 cpu 时间，3.0-3.3版本直接使用，3.6调用有问题"
   ]
  },
  {
   "cell_type": "code",
   "execution_count": 133,
   "metadata": {},
   "outputs": [
    {
     "name": "stdout",
     "output_type": "stream",
     "text": [
      "0\n",
      "1\n",
      "2\n",
      "3\n",
      "4\n",
      "5\n",
      "6\n",
      "7\n",
      "8\n",
      "9\n"
     ]
    }
   ],
   "source": [
    "# sleep： 使程序进入睡眠，n秒之后继续\n",
    "# 用于有时候故意让程序慢下来，例如在多线程时等待其他较慢的进程\n",
    "# time.sleep()的参数是秒数\n",
    "for i in range(10):\n",
    "    print(i)\n",
    "    time.sleep(1)"
   ]
  },
  {
   "cell_type": "code",
   "execution_count": 147,
   "metadata": {},
   "outputs": [
    {
     "name": "stdout",
     "output_type": "stream",
     "text": [
      "3.000968090536844\n"
     ]
    }
   ],
   "source": [
    "\n",
    "def p():\n",
    "    time.sleep(2.5)\n",
    "t0 = time.clock()\n",
    "#p()\n",
    "time.sleep(3)\n",
    "t1 = time.clock()\n",
    "print(t1-t0)"
   ]
  },
  {
   "cell_type": "markdown",
   "metadata": {},
   "source": [
    "### strftime ：将时间元组转化为自定义字符串格式\n",
    "- 太多懒得写，查百度把"
   ]
  },
  {
   "cell_type": "code",
   "execution_count": 148,
   "metadata": {},
   "outputs": [
    {
     "ename": "UnicodeEncodeError",
     "evalue": "'locale' codec can't encode character '\\u5e74' in position 2: Illegal byte sequence",
     "output_type": "error",
     "traceback": [
      "\u001b[1;31m---------------------------------------------------------------------------\u001b[0m",
      "\u001b[1;31mUnicodeEncodeError\u001b[0m                        Traceback (most recent call last)",
      "\u001b[1;32m<ipython-input-148-10f5f9064dd5>\u001b[0m in \u001b[0;36m<module>\u001b[1;34m()\u001b[0m\n\u001b[0;32m      2\u001b[0m \u001b[1;32mimport\u001b[0m \u001b[0mtime\u001b[0m\u001b[1;33m\u001b[0m\u001b[0m\n\u001b[0;32m      3\u001b[0m \u001b[0mt\u001b[0m \u001b[1;33m=\u001b[0m \u001b[0mtime\u001b[0m\u001b[1;33m.\u001b[0m\u001b[0mlocaltime\u001b[0m\u001b[1;33m(\u001b[0m\u001b[1;33m)\u001b[0m\u001b[1;33m\u001b[0m\u001b[0m\n\u001b[1;32m----> 4\u001b[1;33m \u001b[0mft\u001b[0m \u001b[1;33m=\u001b[0m \u001b[0mtime\u001b[0m\u001b[1;33m.\u001b[0m\u001b[0mstrftime\u001b[0m\u001b[1;33m(\u001b[0m\u001b[1;34m\"%Y年%m月%d日 %H:%M\"\u001b[0m\u001b[1;33m,\u001b[0m\u001b[0mt\u001b[0m\u001b[1;33m)\u001b[0m\u001b[1;33m\u001b[0m\u001b[0m\n\u001b[0m\u001b[0;32m      5\u001b[0m \u001b[0mprint\u001b[0m\u001b[1;33m(\u001b[0m\u001b[0mft\u001b[0m\u001b[1;33m)\u001b[0m\u001b[1;33m\u001b[0m\u001b[0m\n",
      "\u001b[1;31mUnicodeEncodeError\u001b[0m: 'locale' codec can't encode character '\\u5e74' in position 2: Illegal byte sequence"
     ]
    }
   ],
   "source": [
    "# 把时间表示成，今天是2018年3月26日21：05\n",
    "import time\n",
    "# 写法 ，但是由于不明原因会报错\n",
    "t = time.localtime()\n",
    "ft = time.strftime(\"%Y年%m月%d日 %H:%M\",t)\n",
    "print(ft)"
   ]
  },
  {
   "cell_type": "markdown",
   "metadata": {},
   "source": [
    "# datetime模块\n",
    "- datetime提供日期时间的运算和表示\n"
   ]
  },
  {
   "cell_type": "code",
   "execution_count": 7,
   "metadata": {},
   "outputs": [],
   "source": [
    "import datetime"
   ]
  },
  {
   "cell_type": "code",
   "execution_count": 8,
   "metadata": {},
   "outputs": [
    {
     "name": "stdout",
     "output_type": "stream",
     "text": [
      "2018-10-13\n",
      "13\n",
      "2018\n",
      "10\n"
     ]
    }
   ],
   "source": [
    "# datetime常见属性\n",
    "# datetime.date：表示一个理想和的日期，提供yearminth，day属性\n",
    "# 表示结果比较符合中国的表示习惯\n",
    "dt = datetime.date(2018,10,13)\n",
    "print(dt)\n",
    "print(dt.day)#日\n",
    "print(dt.year)#年\n",
    "print(dt.month)#月"
   ]
  },
  {
   "cell_type": "code",
   "execution_count": null,
   "metadata": {},
   "outputs": [],
   "source": [
    "# datetime.datetime：提供日期跟时间的组合\n",
    "#datetime.timedelta:提供一个时间差，表示时间长度"
   ]
  },
  {
   "cell_type": "code",
   "execution_count": 9,
   "metadata": {},
   "outputs": [
    {
     "name": "stdout",
     "output_type": "stream",
     "text": [
      "2018-10-15 08:53:11.585180\n",
      "2018-10-15 08:53:11.585180\n"
     ]
    },
    {
     "ename": "NameError",
     "evalue": "name 'time' is not defined",
     "output_type": "error",
     "traceback": [
      "\u001b[1;31m---------------------------------------------------------------------------\u001b[0m",
      "\u001b[1;31mNameError\u001b[0m                                 Traceback (most recent call last)",
      "\u001b[1;32m<ipython-input-9-13b531c17a27>\u001b[0m in \u001b[0;36m<module>\u001b[1;34m()\u001b[0m\n\u001b[0;32m      9\u001b[0m \u001b[0mprint\u001b[0m\u001b[1;33m(\u001b[0m\u001b[0mdt\u001b[0m\u001b[1;33m.\u001b[0m\u001b[0mtoday\u001b[0m\u001b[1;33m(\u001b[0m\u001b[1;33m)\u001b[0m\u001b[1;33m)\u001b[0m\u001b[1;33m\u001b[0m\u001b[0m\n\u001b[0;32m     10\u001b[0m \u001b[0mprint\u001b[0m\u001b[1;33m(\u001b[0m\u001b[0mdt\u001b[0m\u001b[1;33m.\u001b[0m\u001b[0mnow\u001b[0m\u001b[1;33m(\u001b[0m\u001b[1;33m)\u001b[0m\u001b[1;33m)\u001b[0m\u001b[1;33m\u001b[0m\u001b[0m\n\u001b[1;32m---> 11\u001b[1;33m \u001b[0mprint\u001b[0m\u001b[1;33m(\u001b[0m\u001b[0mdt\u001b[0m\u001b[1;33m.\u001b[0m\u001b[0mfromtimestamp\u001b[0m\u001b[1;33m(\u001b[0m\u001b[0mtime\u001b[0m\u001b[1;33m.\u001b[0m\u001b[0mtime\u001b[0m\u001b[1;33m(\u001b[0m\u001b[1;33m)\u001b[0m\u001b[1;33m)\u001b[0m\u001b[1;33m)\u001b[0m\u001b[1;33m\u001b[0m\u001b[0m\n\u001b[0m",
      "\u001b[1;31mNameError\u001b[0m: name 'time' is not defined"
     ]
    }
   ],
   "source": [
    "#datetime.datetime\n",
    "from datetime import datetime\n",
    "# 常用类方法\n",
    "# today：\n",
    "# now\n",
    "# utcnow\n",
    "# fromtimestamp：从时间戳中返回本地时间\n",
    "dt = datetime(2018,10,13)\n",
    "print(dt.today())\n",
    "print(dt.now())\n",
    "print(dt.fromtimestamp(time.time()))"
   ]
  },
  {
   "cell_type": "code",
   "execution_count": 10,
   "metadata": {},
   "outputs": [
    {
     "name": "stdout",
     "output_type": "stream",
     "text": [
      "2018-10-15 08:53:14\n",
      "2018-10-15 09:53:14\n"
     ]
    }
   ],
   "source": [
    "# datetime.timedelta\n",
    "# 表示一个时间间隔\n",
    "from datetime import datetime, timedelta\n",
    "t1 = datetime.now()\n",
    "#print(t1)\n",
    "print(t1.strftime(\"%Y-%m-%d %H:%M:%S\"))\n",
    "td = timedelta(hours = 1) # td表示1小时的时间长度\n",
    "# 当前时间加上时间间隔后，把得到的一个小时后的时间格式化输出\n",
    "print((t1+td).strftime(\"%Y-%m-%d %H:%M:%S\"))# 再把获得的时间间隔进行格式化\n"
   ]
  },
  {
   "cell_type": "code",
   "execution_count": 13,
   "metadata": {},
   "outputs": [
    {
     "name": "stdout",
     "output_type": "stream",
     "text": [
      "3.600071668624878\n"
     ]
    }
   ],
   "source": [
    "# timeit 时间测量工具\n",
    "# 可以用于衡量一段代码执行的时间\n",
    "# 测量程序运行时间间隔实验\n",
    "import time\n",
    "def p():\n",
    "    time.sleep(3.6)# sleep  设置程序休眠 n 秒后 再运行\n",
    "t1 = time.time()\n",
    "p()\n",
    "print(time.time() - t1)"
   ]
  },
  {
   "cell_type": "code",
   "execution_count": 2,
   "metadata": {},
   "outputs": [],
   "source": [
    "# 生成列表的两种方法比较\n",
    "# 如果单纯比较生成一个列表的时间，可能很难实现\n",
    "c = '''\n",
    "sum = []\n",
    "for i in range(1000):\n",
    "    sum.append(i)\n",
    "'''"
   ]
  },
  {
   "cell_type": "code",
   "execution_count": 3,
   "metadata": {
    "scrolled": false
   },
   "outputs": [
    {
     "name": "stdout",
     "output_type": "stream",
     "text": [
      "4.795893965968965\n",
      "1.1953057698989298\n"
     ]
    }
   ],
   "source": [
    "# 利用timelt 调用代码，查看运行10000次所用的时间\n",
    "import timeit\n",
    "# 列表生成式，把 stmt的值生成10000次，并执行\n",
    "t1 = timeit.timeit(stmt = \"[i for i in range(1000)]\", number = 100000)\n",
    "# 测量代码C 执行10000次的运行结果\n",
    "t2 = timeit.timeit(stmt=c, number = 10000)\n",
    "# 分别输出两次执行所用时间，返回值为  float 类型\n",
    "print(t1)\n",
    "print(t2)"
   ]
  },
  {
   "cell_type": "code",
   "execution_count": 6,
   "metadata": {},
   "outputs": [
    {
     "name": "stdout",
     "output_type": "stream",
     "text": [
      "Repeat for 0\n",
      "Repeat for 1\n",
      "Repeat for 2\n",
      "Repeat for 0\n",
      "Repeat for 1\n",
      "Repeat for 2\n",
      "Repeat for 0\n",
      "Repeat for 1\n",
      "Repeat for 2\n",
      "Repeat for 0\n",
      "Repeat for 1\n",
      "Repeat for 2\n",
      "Repeat for 0\n",
      "Repeat for 1\n",
      "Repeat for 2\n",
      "Repeat for 0\n",
      "Repeat for 1\n",
      "Repeat for 2\n",
      "Repeat for 0\n",
      "Repeat for 1\n",
      "Repeat for 2\n",
      "Repeat for 0\n",
      "Repeat for 1\n",
      "Repeat for 2\n",
      "Repeat for 0\n",
      "Repeat for 1\n",
      "Repeat for 2\n",
      "Repeat for 0\n",
      "Repeat for 1\n",
      "Repeat for 2\n",
      "0.0010347693852281736\n"
     ]
    }
   ],
   "source": [
    "# timelt 可以执行一个函数，来测量一个函数的执行时间\n",
    "def doit():\n",
    "    num = 3\n",
    "    for i in range(num):\n",
    "        print(\"Repeat for {0}\".format(i))\n",
    "t  = timeit.timeit(stmt = doit, number = 10)\n",
    "print(t)"
   ]
  },
  {
   "cell_type": "markdown",
   "metadata": {},
   "source": [
    "- datetime.datetime 模块\n",
    "    - 提供一个比较好用的时间而已\n"
   ]
  },
  {
   "cell_type": "code",
   "execution_count": 14,
   "metadata": {},
   "outputs": [
    {
     "name": "stdout",
     "output_type": "stream",
     "text": [
      "2018-10-15 10:54:00.135721\n"
     ]
    }
   ],
   "source": [
    "from datetime import datetime as dt\n",
    "print(dt.now())"
   ]
  },
  {
   "cell_type": "markdown",
   "metadata": {},
   "source": [
    "#  os - 操作系统相关\n",
    "- 跟操作系统相关，主要是文件操作\n",
    "- 与操作系统相关的操作，主要包含在三个模块里面\n",
    "    - os， 操作系统目录相关\n",
    "    - os.path，系统路径相关操作\n",
    "    - shutil,高级文件操作，目录树的操作，文件赋值，删除，移动\n",
    "- 路径：\n",
    "    - 绝对路径：总是从根目录上开始\n",
    "    - 相对路径：基本以当前环境开始的一个相对的地方"
   ]
  },
  {
   "cell_type": "markdown",
   "metadata": {},
   "source": [
    "# os 模块"
   ]
  },
  {
   "cell_type": "code",
   "execution_count": 20,
   "metadata": {},
   "outputs": [
    {
     "name": "stdout",
     "output_type": "stream",
     "text": [
      "C:\\Users\\Administrator\\肖有鑫ananconda笔记\n"
     ]
    }
   ],
   "source": [
    "# getcwd() 获取当前的工作目录\n",
    "# 格式： os.getcwd()\n",
    "# 返回值：当前工作目录的字符串\n",
    "import os\n",
    "mydir = os.getcwd()\n",
    "print(mydir)"
   ]
  },
  {
   "cell_type": "code",
   "execution_count": 22,
   "metadata": {},
   "outputs": [],
   "source": [
    "# chdir() 改变当前工作目录\n",
    "# change directory\n",
    "# 格式： os.chdir(路径)\n",
    "# 返回值：无\n",
    "os.chdir('\\home\\...')# 绝对目录最前面加 斜杠\n",
    "mydir = os.getcwd()\n",
    "print(mydir)"
   ]
  },
  {
   "cell_type": "code",
   "execution_count": 23,
   "metadata": {},
   "outputs": [
    {
     "name": "stdout",
     "output_type": "stream",
     "text": [
      "['.ipynb_checkpoints', '0911--git的基本始用.ipynb', 'C语言笔记', 'for-func.ipynb', 'java笔记', 'OOP 面向对象 -2.ipynb', 'OOP面向对象 - 1.ipynb', 'Python常用模块-1.ipynb', '异常处理.ipynb', '编码问题.ipynb', '递归-1.ipynb']\n"
     ]
    }
   ],
   "source": [
    "# listdir() 获取一个目录中所有子目录和文件的名称列表\n",
    "# 格式 ：os.listdir(路径)\n",
    "# 返回值：所有子目录和文件名的列表\n",
    "ld = os.listdir()\n",
    "print(ld)\n",
    "# 如果输出 ld 后的返回值得列表中，元素前面带 · 的，属于在Linux系统中的隐藏文件"
   ]
  },
  {
   "cell_type": "code",
   "execution_count": 24,
   "metadata": {},
   "outputs": [
    {
     "name": "stdout",
     "output_type": "stream",
     "text": [
      "None\n"
     ]
    }
   ],
   "source": [
    "# makedirs() 递归创建文件夹\n",
    "# 格式：os.makedirs(递归路径)\n",
    "# 返回值：无\n",
    "# 递归路径：多个文件夹层层包含的路径就是递归路径，比如a/b/c\n",
    "rst = os.makedirs(\"xiao\") # 在当前工作目录下创建一个名为  xiao 的文件夹\n",
    "print(rst) # 这里输出的返回值，函数在没有制定返回值的情况下默认返回值为：None "
   ]
  },
  {
   "cell_type": "code",
   "execution_count": 27,
   "metadata": {},
   "outputs": [
    {
     "name": "stdout",
     "output_type": "stream",
     "text": [
      "1\n"
     ]
    }
   ],
   "source": [
    "# system() 运行系统shell命令\n",
    "# 格式：os.system(“系统命令”)\n",
    "# 返回值：打开一个shell或者终端界面\n",
    "# 一般推荐使用subprocss代替\n",
    "# ls 是Linux系统下列出当前文件和文件夹的系统命令\n",
    "# 这段代码在 anaconda 的 jupyter notebook 环境下执行有一点儿问题\n",
    "ret = os.system(\"ls\")\n",
    "print(ret)\n",
    "# 结果是 0 表示执行成功，结果为 1 表示执行失败，但是代码并不会报错"
   ]
  },
  {
   "cell_type": "code",
   "execution_count": 28,
   "metadata": {},
   "outputs": [
    {
     "name": "stdout",
     "output_type": "stream",
     "text": [
      "1\n"
     ]
    }
   ],
   "source": [
    "# 在当前目录下创建一个叫 xiao.txt的文件(linux系统命令)\n",
    "rst = os.system(\"touch xiao.txt\")\n",
    "print(rst) # 在windows 系统下的返回值是 1 ，表示执行失败"
   ]
  },
  {
   "cell_type": "code",
   "execution_count": 29,
   "metadata": {},
   "outputs": [
    {
     "name": "stdout",
     "output_type": "stream",
     "text": [
      "E:\\anaconda;E:\\anaconda\\Library\\mingw-w64\\bin;E:\\anaconda\\Library\\usr\\bin;E:\\anaconda\\Library\\bin;E:\\anaconda\\Scripts;E:\\anaconda\\Library\\bin;C:\\Program Files (x86)\\Common Files\\Oracle\\Java\\javapath;C:\\Windows\\system32;C:\\Windows;C:\\Windows\\System32\\Wbem;C:\\Windows\\System32\\WindowsPowerShell\\v1.0\\;C:\\Windows\\System32\\OpenSSH\\;D:\\pythonmu\\bin;D:\\Git\\cmd;C:\\Program Files\\Microsoft VS Code\\bin;E:\\java\\jdk\\bin;E:\\java\\jre\\bin;E:\\python\\;E:\\python\\phantomjs-2.1.1-windows\\bin;E:\\python\\Scripts;D:\\Microsoft VS Code\\bin;\n"
     ]
    }
   ],
   "source": [
    "# getenv() 获取制定的系统环境变量值\n",
    "# geshi : os.getenv(\"环境变量命\")\n",
    "# 返回值：制定环境变量名称对应的值\n",
    "rst = os.getenv(\"PATH\") \n",
    "print(rst)"
   ]
  },
  {
   "cell_type": "code",
   "execution_count": null,
   "metadata": {},
   "outputs": [],
   "source": [
    "# exit()函数 ，退出当前程序"
   ]
  },
  {
   "cell_type": "markdown",
   "metadata": {},
   "source": [
    "# 值部分\n",
    "- os.curdir：curretn dir 当前目录\n",
    "- os.pardir：parent dir 父级目录\n",
    "- os.sep：当前系统路径分隔符\n",
    "    - widnwos:“\\”\n",
    "    - linux：“/”\n",
    "- os.linesep：当前系统的换行符\n",
    "    - windows:'\\r\\n'\n",
    "    - 不可见的,直接print会出错\n",
    "    - unix.linux,macos：“\\n”\n",
    "- os.name：当前系统名名称\n",
    "    - windows：nt\n",
    "    - macos，unix，linux：posix\n",
    "- 在路径的相关操作中，不要手动拼写地址，因为手动拼写的路径可能不具有可移植性"
   ]
  },
  {
   "cell_type": "code",
   "execution_count": 3,
   "metadata": {},
   "outputs": [
    {
     "name": "stdout",
     "output_type": "stream",
     "text": [
      "..\n",
      ".\n"
     ]
    }
   ],
   "source": [
    "import os\n",
    "print(os.pardir)\n",
    "print(os.curdir)"
   ]
  },
  {
   "cell_type": "code",
   "execution_count": 6,
   "metadata": {},
   "outputs": [
    {
     "name": "stdout",
     "output_type": "stream",
     "text": [
      "\\\n"
     ]
    },
    {
     "ename": "NameError",
     "evalue": "name 'linesep' is not defined",
     "output_type": "error",
     "traceback": [
      "\u001b[1;31m---------------------------------------------------------------------------\u001b[0m",
      "\u001b[1;31mNameError\u001b[0m                                 Traceback (most recent call last)",
      "\u001b[1;32m<ipython-input-6-d223a437ae61>\u001b[0m in \u001b[0;36m<module>\u001b[1;34m()\u001b[0m\n\u001b[0;32m      1\u001b[0m \u001b[0mprint\u001b[0m\u001b[1;33m(\u001b[0m\u001b[0mos\u001b[0m\u001b[1;33m.\u001b[0m\u001b[0msep\u001b[0m\u001b[1;33m)\u001b[0m\u001b[1;33m\u001b[0m\u001b[0m\n\u001b[0;32m      2\u001b[0m \u001b[1;31m# print(linesep) 在windows系统下不可用\u001b[0m\u001b[1;33m\u001b[0m\u001b[1;33m\u001b[0m\u001b[0m\n\u001b[1;32m----> 3\u001b[1;33m \u001b[0mprint\u001b[0m\u001b[1;33m(\u001b[0m\u001b[0mlinesep\u001b[0m\u001b[1;33m)\u001b[0m\u001b[1;33m\u001b[0m\u001b[0m\n\u001b[0m",
      "\u001b[1;31mNameError\u001b[0m: name 'linesep' is not defined"
     ]
    }
   ],
   "source": [
    "print(os.sep)\n",
    "\n",
    "print(linesep) # 换行符不能显示"
   ]
  },
  {
   "cell_type": "code",
   "execution_count": 7,
   "metadata": {},
   "outputs": [
    {
     "name": "stdout",
     "output_type": "stream",
     "text": [
      "nt\n"
     ]
    }
   ],
   "source": [
    "print(os.name)"
   ]
  },
  {
   "cell_type": "markdown",
   "metadata": {},
   "source": [
    "# os.path模块，跟路径相关的模块"
   ]
  },
  {
   "cell_type": "code",
   "execution_count": 8,
   "metadata": {},
   "outputs": [],
   "source": [
    "import os.path as op"
   ]
  },
  {
   "cell_type": "code",
   "execution_count": 36,
   "metadata": {},
   "outputs": [
    {
     "name": "stdout",
     "output_type": "stream",
     "text": [
      "C:\\Windows\\System32\n"
     ]
    }
   ],
   "source": [
    "# abspath() 将路径转化为绝对路径\n",
    "# abselute() 绝对\n",
    "# 格式: os.path.abspath('路径')\n",
    "# 返回值：路径的绝对路径形式\n",
    "absp = op.abspath(\"C:\\Windows\\System32\") # linux 中 . 代表当前目录， ..代表父级目录\n",
    "print(absp)"
   ]
  },
  {
   "cell_type": "code",
   "execution_count": 35,
   "metadata": {},
   "outputs": [
    {
     "name": "stdout",
     "output_type": "stream",
     "text": [
      "System32\n"
     ]
    }
   ],
   "source": [
    "# basname() 获取路径中的文件名部分\n",
    "# 格式： os.path.basname('路径')\n",
    "# 返回值：文件名字字符串\n",
    "bn = op.basename('C:\\Windows\\System32')\n",
    "print(bn)"
   ]
  },
  {
   "cell_type": "code",
   "execution_count": null,
   "metadata": {},
   "outputs": [],
   "source": [
    "# join() 将多个路径拼写成一个路径\n",
    "# 格式： os.path.join(路径1，路径2.。。。。)\n",
    "# 会自动在几个路径中加入分隔符"
   ]
  },
  {
   "cell_type": "code",
   "execution_count": 34,
   "metadata": {},
   "outputs": [
    {
     "name": "stdout",
     "output_type": "stream",
     "text": [
      "('C:\\\\Windows', 'System32')\n"
     ]
    }
   ],
   "source": [
    "# split() 将路径切割为文件夹部分和当前文件部分\n",
    "# 格式： os.path.seplit(路径)\n",
    "# 返回值：路径和文件名组成的元组\n",
    "# 格式如下，由于中文原因会报错\n",
    "t = op.split(\"C:\\Windows\\System32\")\n",
    "print(t)"
   ]
  },
  {
   "cell_type": "code",
   "execution_count": 33,
   "metadata": {},
   "outputs": [
    {
     "name": "stdout",
     "output_type": "stream",
     "text": [
      "True\n"
     ]
    }
   ],
   "source": [
    "# isdir() 检测是否是目录\n",
    "# 格式： os.path.isdir(路径)\n",
    "# 返回值：布尔值\n",
    "ret = op.isdir(\"C:\\Windows\\System32\")\n",
    "print(ret)"
   ]
  },
  {
   "cell_type": "code",
   "execution_count": 38,
   "metadata": {},
   "outputs": [
    {
     "name": "stdout",
     "output_type": "stream",
     "text": [
      "True\n"
     ]
    }
   ],
   "source": [
    "# exists() 检测文件或者目录是否存在\n",
    "# 格式： os.path.exists(\"路径\")\n",
    "# 返回值：布尔值\n",
    "e = op.exists(\"C:\\Windows\\System32\")\n",
    "print(e)"
   ]
  },
  {
   "cell_type": "markdown",
   "metadata": {},
   "source": [
    "# shutil 模块"
   ]
  },
  {
   "cell_type": "code",
   "execution_count": 1,
   "metadata": {},
   "outputs": [],
   "source": [
    "import shutil"
   ]
  },
  {
   "cell_type": "code",
   "execution_count": 5,
   "metadata": {},
   "outputs": [
    {
     "name": "stdout",
     "output_type": "stream",
     "text": [
      "F:\\myone\\Mytwo.txt\n"
     ]
    }
   ],
   "source": [
    "# copy() 复制文件\n",
    "# 格式： shutil.copy(来源路径,目标路径)\n",
    "# 返回值：返回目标路径\n",
    "# 拷贝的同事，可以给文件重命名\n",
    "rst = shutil.copy(\"F:\\myone\\Myone.txt\",\"F:\\myone\\Mytwo.txt\")\n",
    "print(rst)"
   ]
  },
  {
   "cell_type": "code",
   "execution_count": null,
   "metadata": {},
   "outputs": [],
   "source": [
    "# copy2() 复制文件，保留原数据（文件信息）\n",
    "# 格式： shutil.copy2(来源路径，目标路径)\n",
    "# 返回值：返回目标路径\n",
    "# 注意：copy和copy2的唯一区别在于copy2复制文件时尽量保留元数据"
   ]
  },
  {
   "cell_type": "code",
   "execution_count": 7,
   "metadata": {},
   "outputs": [
    {
     "name": "stdout",
     "output_type": "stream",
     "text": [
      "F:\\myone\\Mytwo.txt\n"
     ]
    }
   ],
   "source": [
    "# copyfile（）将一个文件中的额内容复制到另一个文件中\n",
    "# 格式： shutil.copyfile(源路径，目标路径)\n",
    "rst = shutil.copyfile(\"F:\\myone\\Myone.txt\",\"F:\\myone\\Mytwo.txt\")\n",
    "print(rst)"
   ]
  },
  {
   "cell_type": "code",
   "execution_count": 11,
   "metadata": {},
   "outputs": [
    {
     "ename": "OSError",
     "evalue": "[Errno 22] Invalid argument: 'F:\\\\myone\\no'",
     "output_type": "error",
     "traceback": [
      "\u001b[1;31m---------------------------------------------------------------------------\u001b[0m",
      "\u001b[1;31mOSError\u001b[0m                                   Traceback (most recent call last)",
      "\u001b[1;32mE:\\anaconda\\lib\\shutil.py\u001b[0m in \u001b[0;36mmove\u001b[1;34m(src, dst, copy_function)\u001b[0m\n\u001b[0;32m    543\u001b[0m     \u001b[1;32mtry\u001b[0m\u001b[1;33m:\u001b[0m\u001b[1;33m\u001b[0m\u001b[0m\n\u001b[1;32m--> 544\u001b[1;33m         \u001b[0mos\u001b[0m\u001b[1;33m.\u001b[0m\u001b[0mrename\u001b[0m\u001b[1;33m(\u001b[0m\u001b[0msrc\u001b[0m\u001b[1;33m,\u001b[0m \u001b[0mreal_dst\u001b[0m\u001b[1;33m)\u001b[0m\u001b[1;33m\u001b[0m\u001b[0m\n\u001b[0m\u001b[0;32m    545\u001b[0m     \u001b[1;32mexcept\u001b[0m \u001b[0mOSError\u001b[0m\u001b[1;33m:\u001b[0m\u001b[1;33m\u001b[0m\u001b[0m\n",
      "\u001b[1;31mOSError\u001b[0m: [WinError 123] 文件名、目录名或卷标语法不正确。: 'F:\\\\myone\\\\Myone.txt' -> 'F:\\\\myone\\no'",
      "\nDuring handling of the above exception, another exception occurred:\n",
      "\u001b[1;31mOSError\u001b[0m                                   Traceback (most recent call last)",
      "\u001b[1;32m<ipython-input-11-f7420c9e6605>\u001b[0m in \u001b[0;36m<module>\u001b[1;34m()\u001b[0m\n\u001b[0;32m      2\u001b[0m \u001b[1;31m# 格式： shutilmove(原路径，目标路径)\u001b[0m\u001b[1;33m\u001b[0m\u001b[1;33m\u001b[0m\u001b[0m\n\u001b[0;32m      3\u001b[0m \u001b[1;31m# 返回值：目标路径\u001b[0m\u001b[1;33m\u001b[0m\u001b[1;33m\u001b[0m\u001b[0m\n\u001b[1;32m----> 4\u001b[1;33m \u001b[0mrst\u001b[0m \u001b[1;33m=\u001b[0m \u001b[0mshutil\u001b[0m\u001b[1;33m.\u001b[0m\u001b[0mmove\u001b[0m\u001b[1;33m(\u001b[0m\u001b[1;34m\"F:\\myone\\Myone.txt\"\u001b[0m\u001b[1;33m,\u001b[0m\u001b[1;34m\"F:\\myone\\no\"\u001b[0m\u001b[1;33m)\u001b[0m\u001b[1;33m\u001b[0m\u001b[0m\n\u001b[0m\u001b[0;32m      5\u001b[0m \u001b[0mprint\u001b[0m\u001b[1;33m(\u001b[0m\u001b[0mrst\u001b[0m\u001b[1;33m)\u001b[0m\u001b[1;33m\u001b[0m\u001b[0m\n",
      "\u001b[1;32mE:\\anaconda\\lib\\shutil.py\u001b[0m in \u001b[0;36mmove\u001b[1;34m(src, dst, copy_function)\u001b[0m\n\u001b[0;32m    556\u001b[0m             \u001b[0mrmtree\u001b[0m\u001b[1;33m(\u001b[0m\u001b[0msrc\u001b[0m\u001b[1;33m)\u001b[0m\u001b[1;33m\u001b[0m\u001b[0m\n\u001b[0;32m    557\u001b[0m         \u001b[1;32melse\u001b[0m\u001b[1;33m:\u001b[0m\u001b[1;33m\u001b[0m\u001b[0m\n\u001b[1;32m--> 558\u001b[1;33m             \u001b[0mcopy_function\u001b[0m\u001b[1;33m(\u001b[0m\u001b[0msrc\u001b[0m\u001b[1;33m,\u001b[0m \u001b[0mreal_dst\u001b[0m\u001b[1;33m)\u001b[0m\u001b[1;33m\u001b[0m\u001b[0m\n\u001b[0m\u001b[0;32m    559\u001b[0m             \u001b[0mos\u001b[0m\u001b[1;33m.\u001b[0m\u001b[0munlink\u001b[0m\u001b[1;33m(\u001b[0m\u001b[0msrc\u001b[0m\u001b[1;33m)\u001b[0m\u001b[1;33m\u001b[0m\u001b[0m\n\u001b[0;32m    560\u001b[0m     \u001b[1;32mreturn\u001b[0m \u001b[0mreal_dst\u001b[0m\u001b[1;33m\u001b[0m\u001b[0m\n",
      "\u001b[1;32mE:\\anaconda\\lib\\shutil.py\u001b[0m in \u001b[0;36mcopy2\u001b[1;34m(src, dst, follow_symlinks)\u001b[0m\n\u001b[0;32m    255\u001b[0m     \u001b[1;32mif\u001b[0m \u001b[0mos\u001b[0m\u001b[1;33m.\u001b[0m\u001b[0mpath\u001b[0m\u001b[1;33m.\u001b[0m\u001b[0misdir\u001b[0m\u001b[1;33m(\u001b[0m\u001b[0mdst\u001b[0m\u001b[1;33m)\u001b[0m\u001b[1;33m:\u001b[0m\u001b[1;33m\u001b[0m\u001b[0m\n\u001b[0;32m    256\u001b[0m         \u001b[0mdst\u001b[0m \u001b[1;33m=\u001b[0m \u001b[0mos\u001b[0m\u001b[1;33m.\u001b[0m\u001b[0mpath\u001b[0m\u001b[1;33m.\u001b[0m\u001b[0mjoin\u001b[0m\u001b[1;33m(\u001b[0m\u001b[0mdst\u001b[0m\u001b[1;33m,\u001b[0m \u001b[0mos\u001b[0m\u001b[1;33m.\u001b[0m\u001b[0mpath\u001b[0m\u001b[1;33m.\u001b[0m\u001b[0mbasename\u001b[0m\u001b[1;33m(\u001b[0m\u001b[0msrc\u001b[0m\u001b[1;33m)\u001b[0m\u001b[1;33m)\u001b[0m\u001b[1;33m\u001b[0m\u001b[0m\n\u001b[1;32m--> 257\u001b[1;33m     \u001b[0mcopyfile\u001b[0m\u001b[1;33m(\u001b[0m\u001b[0msrc\u001b[0m\u001b[1;33m,\u001b[0m \u001b[0mdst\u001b[0m\u001b[1;33m,\u001b[0m \u001b[0mfollow_symlinks\u001b[0m\u001b[1;33m=\u001b[0m\u001b[0mfollow_symlinks\u001b[0m\u001b[1;33m)\u001b[0m\u001b[1;33m\u001b[0m\u001b[0m\n\u001b[0m\u001b[0;32m    258\u001b[0m     \u001b[0mcopystat\u001b[0m\u001b[1;33m(\u001b[0m\u001b[0msrc\u001b[0m\u001b[1;33m,\u001b[0m \u001b[0mdst\u001b[0m\u001b[1;33m,\u001b[0m \u001b[0mfollow_symlinks\u001b[0m\u001b[1;33m=\u001b[0m\u001b[0mfollow_symlinks\u001b[0m\u001b[1;33m)\u001b[0m\u001b[1;33m\u001b[0m\u001b[0m\n\u001b[0;32m    259\u001b[0m     \u001b[1;32mreturn\u001b[0m \u001b[0mdst\u001b[0m\u001b[1;33m\u001b[0m\u001b[0m\n",
      "\u001b[1;32mE:\\anaconda\\lib\\shutil.py\u001b[0m in \u001b[0;36mcopyfile\u001b[1;34m(src, dst, follow_symlinks)\u001b[0m\n\u001b[0;32m    119\u001b[0m     \u001b[1;32melse\u001b[0m\u001b[1;33m:\u001b[0m\u001b[1;33m\u001b[0m\u001b[0m\n\u001b[0;32m    120\u001b[0m         \u001b[1;32mwith\u001b[0m \u001b[0mopen\u001b[0m\u001b[1;33m(\u001b[0m\u001b[0msrc\u001b[0m\u001b[1;33m,\u001b[0m \u001b[1;34m'rb'\u001b[0m\u001b[1;33m)\u001b[0m \u001b[1;32mas\u001b[0m \u001b[0mfsrc\u001b[0m\u001b[1;33m:\u001b[0m\u001b[1;33m\u001b[0m\u001b[0m\n\u001b[1;32m--> 121\u001b[1;33m             \u001b[1;32mwith\u001b[0m \u001b[0mopen\u001b[0m\u001b[1;33m(\u001b[0m\u001b[0mdst\u001b[0m\u001b[1;33m,\u001b[0m \u001b[1;34m'wb'\u001b[0m\u001b[1;33m)\u001b[0m \u001b[1;32mas\u001b[0m \u001b[0mfdst\u001b[0m\u001b[1;33m:\u001b[0m\u001b[1;33m\u001b[0m\u001b[0m\n\u001b[0m\u001b[0;32m    122\u001b[0m                 \u001b[0mcopyfileobj\u001b[0m\u001b[1;33m(\u001b[0m\u001b[0mfsrc\u001b[0m\u001b[1;33m,\u001b[0m \u001b[0mfdst\u001b[0m\u001b[1;33m)\u001b[0m\u001b[1;33m\u001b[0m\u001b[0m\n\u001b[0;32m    123\u001b[0m     \u001b[1;32mreturn\u001b[0m \u001b[0mdst\u001b[0m\u001b[1;33m\u001b[0m\u001b[0m\n",
      "\u001b[1;31mOSError\u001b[0m: [Errno 22] Invalid argument: 'F:\\\\myone\\no'"
     ]
    }
   ],
   "source": [
    "#move() 移动文件/文件夹\n",
    "# 格式： shutilmove(原路径，目标路径)\n",
    "# 返回值：目标路径\n",
    "rst = shutil.move(\"F:\\myone\\Myone.txt\",\"F:\\myone\\no\")\n",
    "print(rst)"
   ]
  },
  {
   "cell_type": "markdown",
   "metadata": {},
   "source": [
    "# 归档和压缩\n",
    "- 归档：把多个文件或者文件夹合并到一个文件当中\n",
    "- 压缩：用算法把多个文件或者文件夹无损或者有损合并到一个文件中"
   ]
  },
  {
   "cell_type": "code",
   "execution_count": null,
   "metadata": {},
   "outputs": [],
   "source": [
    "# make_archive() 归档操作\n",
    "# 格式: shutil.make_archive(\"归档之后的目录和文件名\"，“后缀”，“需要归档的文件夹)\n",
    "# 返回值：归档之后的地址"
   ]
  },
  {
   "cell_type": "code",
   "execution_count": 12,
   "metadata": {},
   "outputs": [
    {
     "ename": "OSError",
     "evalue": "[WinError 123] 文件名、目录名或卷标语法不正确。: 'F:\\\\myone\\no'",
     "output_type": "error",
     "traceback": [
      "\u001b[1;31m---------------------------------------------------------------------------\u001b[0m",
      "\u001b[1;31mOSError\u001b[0m                                   Traceback (most recent call last)",
      "\u001b[1;32m<ipython-input-12-35948799c0bc>\u001b[0m in \u001b[0;36m<module>\u001b[1;34m()\u001b[0m\n\u001b[1;32m----> 1\u001b[1;33m \u001b[0mrst\u001b[0m \u001b[1;33m=\u001b[0m \u001b[0mshutil\u001b[0m\u001b[1;33m.\u001b[0m\u001b[0mmake_archive\u001b[0m\u001b[1;33m(\u001b[0m\u001b[1;34m\"F:\\myone\\Myone.txt\"\u001b[0m\u001b[1;33m,\u001b[0m\u001b[1;34m\".text\"\u001b[0m\u001b[1;33m,\u001b[0m\u001b[1;34m\"F:\\myone\\no\"\u001b[0m\u001b[1;33m)\u001b[0m\u001b[1;33m\u001b[0m\u001b[0m\n\u001b[0m",
      "\u001b[1;32mE:\\anaconda\\lib\\shutil.py\u001b[0m in \u001b[0;36mmake_archive\u001b[1;34m(base_name, format, root_dir, base_dir, verbose, dry_run, owner, group, logger)\u001b[0m\n\u001b[0;32m    777\u001b[0m         \u001b[0mbase_name\u001b[0m \u001b[1;33m=\u001b[0m \u001b[0mos\u001b[0m\u001b[1;33m.\u001b[0m\u001b[0mpath\u001b[0m\u001b[1;33m.\u001b[0m\u001b[0mabspath\u001b[0m\u001b[1;33m(\u001b[0m\u001b[0mbase_name\u001b[0m\u001b[1;33m)\u001b[0m\u001b[1;33m\u001b[0m\u001b[0m\n\u001b[0;32m    778\u001b[0m         \u001b[1;32mif\u001b[0m \u001b[1;32mnot\u001b[0m \u001b[0mdry_run\u001b[0m\u001b[1;33m:\u001b[0m\u001b[1;33m\u001b[0m\u001b[0m\n\u001b[1;32m--> 779\u001b[1;33m             \u001b[0mos\u001b[0m\u001b[1;33m.\u001b[0m\u001b[0mchdir\u001b[0m\u001b[1;33m(\u001b[0m\u001b[0mroot_dir\u001b[0m\u001b[1;33m)\u001b[0m\u001b[1;33m\u001b[0m\u001b[0m\n\u001b[0m\u001b[0;32m    780\u001b[0m \u001b[1;33m\u001b[0m\u001b[0m\n\u001b[0;32m    781\u001b[0m     \u001b[1;32mif\u001b[0m \u001b[0mbase_dir\u001b[0m \u001b[1;32mis\u001b[0m \u001b[1;32mNone\u001b[0m\u001b[1;33m:\u001b[0m\u001b[1;33m\u001b[0m\u001b[0m\n",
      "\u001b[1;31mOSError\u001b[0m: [WinError 123] 文件名、目录名或卷标语法不正确。: 'F:\\\\myone\\no'"
     ]
    }
   ],
   "source": [
    "# 得到一个\n",
    "rst = shutil.make_archive(\"F:\\myone\\Myone.txt\",\".text\",\"F:\\myone\\no\")"
   ]
  },
  {
   "cell_type": "code",
   "execution_count": 8,
   "metadata": {},
   "outputs": [
    {
     "ename": "SyntaxError",
     "evalue": "unexpected EOF while parsing (<ipython-input-8-1f0ccf13e4be>, line 3)",
     "output_type": "error",
     "traceback": [
      "\u001b[1;36m  File \u001b[1;32m\"<ipython-input-8-1f0ccf13e4be>\"\u001b[1;36m, line \u001b[1;32m3\u001b[0m\n\u001b[1;33m    print(int(num)\u001b[0m\n\u001b[1;37m                  ^\u001b[0m\n\u001b[1;31mSyntaxError\u001b[0m\u001b[1;31m:\u001b[0m unexpected EOF while parsing\n"
     ]
    }
   ],
   "source": [
    "import random\n",
    "num = random.random()\n"
   ]
  },
  {
   "cell_type": "code",
   "execution_count": null,
   "metadata": {},
   "outputs": [],
   "source": []
  },
  {
   "cell_type": "code",
   "execution_count": null,
   "metadata": {},
   "outputs": [],
   "source": []
  },
  {
   "cell_type": "code",
   "execution_count": null,
   "metadata": {},
   "outputs": [],
   "source": []
  },
  {
   "cell_type": "code",
   "execution_count": null,
   "metadata": {},
   "outputs": [],
   "source": []
  },
  {
   "cell_type": "code",
   "execution_count": null,
   "metadata": {},
   "outputs": [],
   "source": []
  },
  {
   "cell_type": "code",
   "execution_count": null,
   "metadata": {},
   "outputs": [],
   "source": []
  },
  {
   "cell_type": "code",
   "execution_count": null,
   "metadata": {},
   "outputs": [],
   "source": []
  },
  {
   "cell_type": "code",
   "execution_count": null,
   "metadata": {},
   "outputs": [],
   "source": []
  },
  {
   "cell_type": "code",
   "execution_count": null,
   "metadata": {},
   "outputs": [],
   "source": []
  },
  {
   "cell_type": "code",
   "execution_count": null,
   "metadata": {},
   "outputs": [],
   "source": []
  },
  {
   "cell_type": "code",
   "execution_count": null,
   "metadata": {},
   "outputs": [],
   "source": []
  },
  {
   "cell_type": "code",
   "execution_count": null,
   "metadata": {},
   "outputs": [],
   "source": []
  },
  {
   "cell_type": "code",
   "execution_count": null,
   "metadata": {},
   "outputs": [],
   "source": []
  },
  {
   "cell_type": "code",
   "execution_count": null,
   "metadata": {},
   "outputs": [],
   "source": []
  },
  {
   "cell_type": "code",
   "execution_count": null,
   "metadata": {},
   "outputs": [],
   "source": []
  },
  {
   "cell_type": "code",
   "execution_count": null,
   "metadata": {},
   "outputs": [],
   "source": []
  },
  {
   "cell_type": "code",
   "execution_count": null,
   "metadata": {},
   "outputs": [],
   "source": []
  },
  {
   "cell_type": "code",
   "execution_count": null,
   "metadata": {},
   "outputs": [],
   "source": []
  },
  {
   "cell_type": "code",
   "execution_count": null,
   "metadata": {},
   "outputs": [],
   "source": []
  },
  {
   "cell_type": "code",
   "execution_count": null,
   "metadata": {},
   "outputs": [],
   "source": []
  },
  {
   "cell_type": "code",
   "execution_count": null,
   "metadata": {},
   "outputs": [],
   "source": []
  },
  {
   "cell_type": "code",
   "execution_count": null,
   "metadata": {},
   "outputs": [],
   "source": []
  }
 ],
 "metadata": {
  "kernelspec": {
   "display_name": "Python 3",
   "language": "python",
   "name": "python3"
  },
  "language_info": {
   "codemirror_mode": {
    "name": "ipython",
    "version": 3
   },
   "file_extension": ".py",
   "mimetype": "text/x-python",
   "name": "python",
   "nbconvert_exporter": "python",
   "pygments_lexer": "ipython3",
   "version": "3.6.5"
  }
 },
 "nbformat": 4,
 "nbformat_minor": 2
}
