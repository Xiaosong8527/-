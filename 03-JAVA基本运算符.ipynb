{
 "cells": [
  {
   "cell_type": "markdown",
   "metadata": {},
   "source": [
    "# JAVA运算符\n",
    "- 四则运算、%取模（取余运算）与python相同，不做过多笔记。\n",
    "- 对于所有的运算符，尽量不要编写过于复杂的操作，运算表达式尽量简洁；\n",
    "- 如果过于复杂的代码，使用()运算符改变优先等级"
   ]
  },
  {
   "cell_type": "markdown",
   "metadata": {},
   "source": [
    "## JAVA运算符分类\n",
    "\n",
    "### 四则运算\n",
    "### 逻辑运算\n",
    "### 三目运算\n",
    "### 位运算"
   ]
  },
  {
   "cell_type": "markdown",
   "metadata": {},
   "source": [
    "## 求模计算\n",
    "- 运算符 %\n",
    "- 10 % 3 = 1\n",
    "- 与python中相同\n",
    "- 偶数模2，结果为0，奇数模2，结果为1，可以利用这样的运算结果来进行判断。\n"
   ]
  },
  {
   "cell_type": "markdown",
   "metadata": {},
   "source": [
    "## 关于java中运算符简化\n",
    "- 与python中运算符简化相同 += 、 -=、*=、/= 、%=等\n",
    "\n",
    "        int num = 10 ; \n",
    "        num += 1 ;  // 等价于 num = 10 + 1"
   ]
  },
  {
   "cell_type": "markdown",
   "metadata": {},
   "source": [
    "## 运算符 ++ 、-- 自增，自减\n",
    "- 根据位置不同，执行的顺序也不同\n",
    "- ++变量、 --变量，写在前面表示的是先进行变量内同的自增或自减1，之后再使用变量进行数学计算；\n",
    "- 变量++、 变量--，写在后面表示的是先使用变量内容进行数学计算，之后再进行自增或自减操作；\n",
    "- 如果只是实现自增自减，最好单独一行代码只是实现其自增或自减操作，避免计算的语句过于复杂；\n"
   ]
  },
  {
   "cell_type": "markdown",
   "metadata": {},
   "source": [
    "# 三目运算\n",
    "- 三目是一种赋值运算的形式，执行三目的时候可以以一个布尔表达式的结果进行赋值\n",
    "- 语法结构\n",
    "        \n",
    "        数据类型 变量 = 布尔表达式？ 满足此表达式时设置的内容 ：不满足此表达式时设置的内容\n",
    "        int numa = 10 ;\n",
    "        int numb = 20 ;\n",
    "        // 把一个大的值赋值给 max\n",
    "        // 如果numa的值大于numb ，则将numa的值赋值给max\n",
    "        // 如果numa的值大于numb，则返回flase，则将numb的值给max\n",
    "        int max = numa > numb ? numa ：numb ;\n",
    "        System.out.println(max);\n",
    "- 此处如果不适用三目运算则需要写以下代码完成\n",
    "\n",
    "        int numa = 10 ;\n",
    "        int numb = 20 ;\n",
    "        int max = 0 ;\n",
    "        if (numa > numb){\n",
    "           max = numa;\n",
    "        }else{\n",
    "          max = numb;\n",
    "        }\n",
    "- 利用三目可以减少使用判断代码\n",
    "- 在三目中尽量不要用三目嵌套三目"
   ]
  },
  {
   "cell_type": "markdown",
   "metadata": {},
   "source": [
    "# 逻辑运算\n",
    "## 逻辑 与\n",
    "- 逻辑运算 ：与、或、非、三种运算\n",
    "- 在java中与分为两种（&、&&）\n",
    "- 或也分为两种（|、||)\n",
    "- 非，只有一种(!)\n",
    "    - 非就是一针对于布尔结果进行求反值的运算\n",
    "- \n",
    "        \n",
    "        public class classname{\n",
    "            public static void main(String [] args){\n",
    "                boolean flag = ture ;\n",
    "                System.out.print(!flag);\n",
    "                //求非，结果为flase\n",
    "            }\n",
    "        }\n",
    "- 如果是多个布尔表达式进行链接，只能使用 与 和 或 两个操作\n",
    "- 1.与操作\n",
    "    - 当多个条件使用与进行连接的时候，只有这多个条件都满足了，最终的结果才时true\n",
    "    - 如果有一个条件返回的时flase，结果就时flase\n",
    "- 普通与，单与 （&)\n",
    "    - 当多个判断表达式在一起进行判断的时候，第一个判断如果返回了 false ，但是程序继续执行，继续对后面的表达式进行判断\n",
    "- 短路与（&&）\n",
    "    - 当多个判断表达式在一起进行判断的时候，如果第一个判断的返回结果为false ，那么后面的所有表达式将不进行判断，对这个语句的判断结果直接返回 false；\n",
    "    "
   ]
  },
  {
   "cell_type": "markdown",
   "metadata": {},
   "source": [
    "## 逻辑 或\n",
    "- 逻辑或的操作要求所有判断条件只要有一个满足条件即可，则，多个判断表达式，只要有一个返回结果为 true ，则整个判断结果返回 true ；\n",
    "- 普通或 （|）\n",
    "    - 使用普通或进行操作的时候，所有判断条件都会执行，但是或运算里面它只要有一个判断返回了true，后面不管有多少个true或者是false，最终的结果永远都是 true\n",
    "- 短路或(||)\n",
    "    - 使用短路或的时候，只要遇到一个判断返回了 true ，则后面所有的判断都不进行判断，因为最终结果还是 true\n",
    "- 在编写代码中，尽量使用短路与，和短路或"
   ]
  },
  {
   "cell_type": "markdown",
   "metadata": {},
   "source": [
    "- 普通与 & \n",
    "    - 所有的判断条件都要进行判断；\n",
    "- 短路与 &&\n",
    "    - 如果前面的判断，返回了flase ，后面不再进行判断，最终结果为flase；\n",
    "- 普通或 |\n",
    "    - 所有的判断条件都要判断：\n",
    "- 短路或 ||\n",
    "    - 如果前面的判断返回了 true ，后面不再进行判断，最终结果为true\n"
   ]
  },
  {
   "cell_type": "markdown",
   "metadata": {},
   "source": [
    "## 位运算\n",
    "- 一般用于加密\n",
    "- 在以往得数学计算中都使用十进制进数据行计算，在java中本身支持二进制与八进制和十六进制得数据进行计算。\n",
    "- 二进制（其他进制不关注）\n",
    "    - 要想将十进制变为二进制得形式，采用得方式是：除2取余，倒序。\n",
    "    - 25（十进制）\n",
    "        - 25 / 2\n",
    "            - = 12 余 1\n",
    "        - 12 / 2\n",
    "            - = 6 余 0 \n",
    "        - 6 / 2\n",
    "            - = 3 余 0 \n",
    "        - 3 / 2\n",
    "            - = 1 余 1\n",
    "        - 1 / 2\n",
    "            - = 0 余 1 \n",
    "     - 所有余数为 10011\n",
    "     - 然后倒序为 11001\n",
    "         - 最终将十进制数字25转换成二进制得结果为 11001\n",
    "- 位运算主要是进行二进制数据操作的，可以使用：&、|、>>、<<、^、~操作符。\n",
    "\n",
    "- 位运算：位于运算（&）位或运算（|）\n",
    "    - 其中 && 和 || 不能应用于位运算上；        \n",
    "\n",
    "- 位移运算<<、>> 与python基本相同，不做笔记"
   ]
  },
  {
   "cell_type": "markdown",
   "metadata": {},
   "source": [
    "# 总结\n",
    "- 运算符尽量写简单操作\n",
    "- 使用短路与和短路或"
   ]
  },
  {
   "cell_type": "code",
   "execution_count": null,
   "metadata": {},
   "outputs": [],
   "source": []
  },
  {
   "cell_type": "code",
   "execution_count": null,
   "metadata": {},
   "outputs": [],
   "source": []
  },
  {
   "cell_type": "code",
   "execution_count": null,
   "metadata": {},
   "outputs": [],
   "source": []
  },
  {
   "cell_type": "code",
   "execution_count": null,
   "metadata": {},
   "outputs": [],
   "source": []
  },
  {
   "cell_type": "code",
   "execution_count": null,
   "metadata": {},
   "outputs": [],
   "source": []
  },
  {
   "cell_type": "code",
   "execution_count": null,
   "metadata": {},
   "outputs": [],
   "source": []
  },
  {
   "cell_type": "code",
   "execution_count": null,
   "metadata": {},
   "outputs": [],
   "source": []
  },
  {
   "cell_type": "code",
   "execution_count": null,
   "metadata": {},
   "outputs": [],
   "source": []
  },
  {
   "cell_type": "code",
   "execution_count": null,
   "metadata": {},
   "outputs": [],
   "source": []
  },
  {
   "cell_type": "code",
   "execution_count": null,
   "metadata": {},
   "outputs": [],
   "source": []
  },
  {
   "cell_type": "code",
   "execution_count": null,
   "metadata": {},
   "outputs": [],
   "source": []
  },
  {
   "cell_type": "code",
   "execution_count": null,
   "metadata": {},
   "outputs": [],
   "source": []
  },
  {
   "cell_type": "code",
   "execution_count": null,
   "metadata": {},
   "outputs": [],
   "source": []
  }
 ],
 "metadata": {
  "kernelspec": {
   "display_name": "Python 3",
   "language": "python",
   "name": "python3"
  },
  "language_info": {
   "codemirror_mode": {
    "name": "ipython",
    "version": 3
   },
   "file_extension": ".py",
   "mimetype": "text/x-python",
   "name": "python",
   "nbconvert_exporter": "python",
   "pygments_lexer": "ipython3",
   "version": "3.6.5"
  }
 },
 "nbformat": 4,
 "nbformat_minor": 2
}
