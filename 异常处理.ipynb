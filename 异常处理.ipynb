{
 "cells": [
  {
   "cell_type": "markdown",
   "metadata": {},
   "source": [
    "# 异常处理\n",
    "- 不能保证程序永远正确运行\n",
    "- 但是，必须保证程序再最坏的情况下得到的问题被妥善的处理\n",
    "- python的异常处理模块全部语法为：\n",
    "\n",
    "        try:\n",
    "            尝试实现某个操作，\n",
    "            如果没有出现异常，任务就可以完成\n",
    "            如果出现异常，将异常从当前代码块扔出去尝试解决异常\n",
    "        except 异常类型1：\n",
    "            解决方案1：用于尝试再此次处处理异常解决问题\n",
    "        except 异常类型2：\n",
    "            解决方案2：用于尝试再此处处理异常解决问题        \n",
    "        except （异常类型1， 异常类型2。。。。）\n",
    "            解决方案: 针对多个异常使用相同的处理方式\n",
    "        except：\n",
    "            解决方案：所有异常的解决方案\n",
    "        else：\n",
    "            如果没有出现任何问题，将会执行此处代码\n",
    "        finally：\n",
    "            不管有没有异常都会执行的代码\n",
    " \n",
    "- 流程\n",
    "    - 1.执行try下面的语句\n",
    "    - 2.如果出现异常，则再except语句里查找对应异常并处理\n",
    "    - 3.如果没有出现异常，则执行else语句内容\n",
    "    - 4.最后，不管是否出现异常，都要执行finally语句\n",
    "    - 5.除except（最少一个）以外，else和finally都是可选的"
   ]
  },
  {
   "cell_type": "code",
   "execution_count": 2,
   "metadata": {},
   "outputs": [
    {
     "name": "stdout",
     "output_type": "stream",
     "text": [
      "Plz input your number: 0\n",
      "你他娘的输入的是啥\n"
     ]
    }
   ],
   "source": [
    "# 常见除零错误异常处理举例\n",
    "try:\n",
    "    num = int(input(\"Plz input your number: \"))\n",
    "    rst = 100/num\n",
    "    print(\"计算结果是; {0}\".format(rst))\n",
    "except:\n",
    "    print(\"你他娘的输入的是啥\")\n",
    "    exit()"
   ]
  },
  {
   "cell_type": "code",
   "execution_count": null,
   "metadata": {},
   "outputs": [],
   "source": [
    "# 除零错误异常处理举例\n",
    "# 给出错误提示信息\n",
    "try:\n",
    "    num = int(input(\"Plz input your number: \"))\n",
    "    rst = 100/num\n",
    "    print(\"计算结果是; {0}\".format(rst))\n",
    "# 捕获异常后，把异常实例化，信息会在实例里\n",
    "# 注意写法\n",
    "# 一下语句是捕获ZeroDivisionError异常并实例化e\n",
    "except ZeroDivisionError as e:\n",
    "    print(\"你他娘的输入的是啥\")\n",
    "    print(e)"
   ]
  },
  {
   "cell_type": "markdown",
   "metadata": {},
   "source": [
    "- 如果遇到多种error的情况\n",
    "    - 需要把越具体的错误，越往前放\n",
    "    - 在异常类继承关系中，越是子类的异常，越往前放\n",
    "    - 越是父类的异常，越往后放\n",
    "- 在处理异常的时候，一旦拦截到某一个异常，则不再继续往下查看，直接进行下一个代码。既有finally执行finally语句块，否则就执行下一个大的语句\n",
    "- 所有异常都是继承自 Exception \n",
    "    - 如果写下  except Exception as e:  任何异常都会拦截住\n",
    "    - 而且，这句代码一定是最后一个 exception"
   ]
  },
  {
   "cell_type": "markdown",
   "metadata": {},
   "source": [
    "## 用户手动引发异常\n",
    "- 当某些情况，用户希望自己引发一个异常的时候，可以使用\n",
    "- raise 关键字来引发异常，手动抛出异常"
   ]
  },
  {
   "cell_type": "code",
   "execution_count": 4,
   "metadata": {},
   "outputs": [
    {
     "name": "stdout",
     "output_type": "stream",
     "text": [
      "我爱肖有鑫\n",
      "3.1415926\n",
      "ValueError\n",
      "我肯定会被执行\n"
     ]
    }
   ],
   "source": [
    "# raise案例-1\n",
    "try:\n",
    "    print(\"我爱肖有鑫\")\n",
    "    print(3.1415926)\n",
    "    # 手动引发 ValueError 异常\n",
    "    # 语法↓ raise 后面跟异常的 类 raise ErrorClassName\n",
    "    raise ValueError\n",
    "    print(\"还没完啊\")\n",
    "except NameError as e:\n",
    "    print(\"Name Error\")\n",
    "except ValueError as e:\n",
    "    print(\"ValueError\")\n",
    "except Exception as e:\n",
    "    print(\"有异常\")\n",
    "finally: # 不管有没有异常都会执行\n",
    "    print(\"我肯定会被执行\")"
   ]
  },
  {
   "cell_type": "code",
   "execution_count": 6,
   "metadata": {},
   "outputs": [
    {
     "name": "stdout",
     "output_type": "stream",
     "text": [
      "我爱肖有鑫\n",
      "3.1415926\n",
      "DanaError\n",
      "我肯定会被执行\n"
     ]
    }
   ],
   "source": [
    "# raise案例-2\n",
    "# 自定义一个异常\n",
    "# 需要注意：自定义异常必须是系统异常的子类\n",
    "class DanaError(ValueError): # 自定义一个异常类\n",
    "    pass\n",
    "\n",
    "try:\n",
    "    print(\"我爱肖有鑫\")\n",
    "    print(3.1415926)\n",
    "    # 手动引发 ValueError 异常\n",
    "    # 语法↓ raise 后面跟异常的 类 raise ErrorClassName\n",
    "    raise DanaError\n",
    "    print(\"还没完啊\")\n",
    "except NameError as e:\n",
    "    print(\"Name Error\")\n",
    "except DanaError as e:  \n",
    "    print(\"DanaError\")\n",
    "except ValueError as e:\n",
    "    print(\"ValueError\")\n",
    "except Exception as e:\n",
    "    print(\"有异常\")\n",
    "finally: # 不管有没有异常都会执行\n",
    "    print(\"我肯定会被执行\")"
   ]
  },
  {
   "cell_type": "code",
   "execution_count": null,
   "metadata": {},
   "outputs": [],
   "source": [
    "# else语句执行案例\n",
    "try:\n",
    "    num = int(input(\"Plz input your number: \"))\n",
    "    rst = 100/num\n",
    "    print(\"计算结果是; {0}\".format(rst))\n",
    "except Exception as e:\n",
    "    print(\"Exceptinon\")\n",
    "else:  # 捕获的异常中，Exception不被执行的话，就会执行 else\n",
    "    print(\"No Exception\")\n",
    "finally: # finally 不管有没有异常都会执行\n",
    "    print(\"反正我会执行的\")    "
   ]
  },
  {
   "cell_type": "markdown",
   "metadata": {},
   "source": [
    "# 关于自定义的异常\n",
    "- 只要是 raise 异常，则推荐自定义异常\n",
    "- 在自定义异常的时候，一般包含以下内容\n",
    "    - 自定义发生异常的异常代码\n",
    "    - 自定义发生异常后的问题提示\n",
    "    - 自定义发生异常的行数显示\n",
    "- 最终的目的是，一旦发生异常，方便程序员快速定位错误现场"
   ]
  },
  {
   "cell_type": "code",
   "execution_count": null,
   "metadata": {},
   "outputs": [],
   "source": []
  },
  {
   "cell_type": "code",
   "execution_count": null,
   "metadata": {},
   "outputs": [],
   "source": []
  },
  {
   "cell_type": "code",
   "execution_count": null,
   "metadata": {},
   "outputs": [],
   "source": []
  },
  {
   "cell_type": "code",
   "execution_count": null,
   "metadata": {},
   "outputs": [],
   "source": []
  },
  {
   "cell_type": "code",
   "execution_count": null,
   "metadata": {},
   "outputs": [],
   "source": []
  },
  {
   "cell_type": "code",
   "execution_count": null,
   "metadata": {},
   "outputs": [],
   "source": []
  },
  {
   "cell_type": "code",
   "execution_count": null,
   "metadata": {},
   "outputs": [],
   "source": []
  },
  {
   "cell_type": "code",
   "execution_count": null,
   "metadata": {},
   "outputs": [],
   "source": []
  },
  {
   "cell_type": "code",
   "execution_count": null,
   "metadata": {},
   "outputs": [],
   "source": []
  },
  {
   "cell_type": "code",
   "execution_count": null,
   "metadata": {},
   "outputs": [],
   "source": []
  },
  {
   "cell_type": "code",
   "execution_count": null,
   "metadata": {},
   "outputs": [],
   "source": []
  },
  {
   "cell_type": "code",
   "execution_count": null,
   "metadata": {},
   "outputs": [],
   "source": []
  },
  {
   "cell_type": "code",
   "execution_count": null,
   "metadata": {},
   "outputs": [],
   "source": []
  },
  {
   "cell_type": "code",
   "execution_count": null,
   "metadata": {},
   "outputs": [],
   "source": []
  },
  {
   "cell_type": "code",
   "execution_count": null,
   "metadata": {},
   "outputs": [],
   "source": []
  },
  {
   "cell_type": "code",
   "execution_count": null,
   "metadata": {},
   "outputs": [],
   "source": []
  },
  {
   "cell_type": "code",
   "execution_count": null,
   "metadata": {},
   "outputs": [],
   "source": []
  },
  {
   "cell_type": "code",
   "execution_count": null,
   "metadata": {},
   "outputs": [],
   "source": []
  },
  {
   "cell_type": "code",
   "execution_count": null,
   "metadata": {},
   "outputs": [],
   "source": []
  },
  {
   "cell_type": "code",
   "execution_count": null,
   "metadata": {},
   "outputs": [],
   "source": []
  },
  {
   "cell_type": "code",
   "execution_count": null,
   "metadata": {},
   "outputs": [],
   "source": []
  },
  {
   "cell_type": "code",
   "execution_count": null,
   "metadata": {},
   "outputs": [],
   "source": []
  },
  {
   "cell_type": "code",
   "execution_count": null,
   "metadata": {},
   "outputs": [],
   "source": []
  },
  {
   "cell_type": "code",
   "execution_count": null,
   "metadata": {},
   "outputs": [],
   "source": []
  },
  {
   "cell_type": "code",
   "execution_count": null,
   "metadata": {},
   "outputs": [],
   "source": []
  },
  {
   "cell_type": "code",
   "execution_count": null,
   "metadata": {},
   "outputs": [],
   "source": []
  },
  {
   "cell_type": "code",
   "execution_count": null,
   "metadata": {},
   "outputs": [],
   "source": []
  },
  {
   "cell_type": "code",
   "execution_count": null,
   "metadata": {},
   "outputs": [],
   "source": []
  },
  {
   "cell_type": "code",
   "execution_count": null,
   "metadata": {},
   "outputs": [],
   "source": []
  },
  {
   "cell_type": "code",
   "execution_count": null,
   "metadata": {},
   "outputs": [],
   "source": []
  },
  {
   "cell_type": "code",
   "execution_count": null,
   "metadata": {},
   "outputs": [],
   "source": []
  },
  {
   "cell_type": "code",
   "execution_count": null,
   "metadata": {},
   "outputs": [],
   "source": []
  }
 ],
 "metadata": {
  "kernelspec": {
   "display_name": "Python 3",
   "language": "python",
   "name": "python3"
  },
  "language_info": {
   "codemirror_mode": {
    "name": "ipython",
    "version": 3
   },
   "file_extension": ".py",
   "mimetype": "text/x-python",
   "name": "python",
   "nbconvert_exporter": "python",
   "pygments_lexer": "ipython3",
   "version": "3.6.5"
  }
 },
 "nbformat": 4,
 "nbformat_minor": 2
}
