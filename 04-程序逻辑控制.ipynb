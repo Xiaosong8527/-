{
 "cells": [
  {
   "cell_type": "markdown",
   "metadata": {},
   "source": [
    "# 判断语句的使用\n",
    "- 程序逻辑分为三种逻辑结构；\n",
    "    - 顺序逻辑结构；\n",
    "        - 所有的代码都是由前向后执行，有些时候顺序是以所在的{}为界限的。\n",
    "    - 分支结构；\n",
    "        - 就是一种判断结构；\n",
    "        - 对于分支结构有两种语法支持：if、switch\n",
    "    - 循环结构；"
   ]
  },
  {
   "cell_type": "markdown",
   "metadata": {},
   "source": [
    "## if语句\n",
    "- 多种定义形式\n",
    "- if、else\n",
    "\n",
    "        if(布尔表达式）{\n",
    "          程序语句，条件满足时执行；\n",
    "        }else{\n",
    "          程序语句，条件不满足时执行；\n",
    "        }\n",
    "- if、else if、else if......else\n",
    "\n",
    "        if (布尔表达式1）{\n",
    "           程序语句，条件满足时执行的语句；\n",
    "        }else if（布尔表达式2）{\n",
    "           程序语句，条件满足时执行的语句；\n",
    "        }else{\n",
    "           程序语句，条件不满足时执行的语句；\n",
    "        }\n",
    "- 进行判断\n",
    "\n",
    "        public class classname{\n",
    "          public static void main(String args[]){\n",
    "             double score = 90.0;\n",
    "             if (score > 60.0){\n",
    "                System.out.println(\"及格!\");\n",
    "             }\n",
    "          }\n",
    "        }\n",
    "        // 在此样的操作里面，如果发现条件不满足就没有执行了\n",
    "        // 当给出不满足条件时的判断\n",
    "        \n",
    "        public class classname{\n",
    "          public static void main(String args[]){\n",
    "             double score = 90.0;\n",
    "             if (score > 60.0){\n",
    "                System.out.println(\"及格!\");\n",
    "             }else{\n",
    "                System.out.println(\"不及格\");\n",
    "             }\n",
    "          }\n",
    "        }\n",
    "        \n",
    "- 多条件判断\n",
    "\n",
    "        public class Test {\n",
    "           public static void main(String args[]) {\n",
    "              double score  = 10.0;\n",
    "                 if  (score < 60.0) {\n",
    "                    System.out.println(\"不及格\");\n",
    "                 }else if (score >= 60.0 && score <= 90.0){\n",
    "                    System.out.println(\"中等\");\n",
    "                 }else if (score > 90.0 && <= 100.0){\n",
    "                    System.out.println(\"优秀\");\n",
    "                 }else{\n",
    "                    System.out.println(\"你家的成绩这么怪异\");\n",
    "                     }\n",
    "                   }\n",
    "                 } \n",
    "- 整个 if 的判断都可以编写布尔表达式，但是switch不能使用布尔表达式，它最早的时候只能进行整数或者字符的判断。但是从 JDK1.5开始支持了枚举判断，在 JDK1.7的时候支持了 String 的判断。"
   ]
  },
  {
   "cell_type": "markdown",
   "metadata": {},
   "source": [
    "# switch语句\n",
    "        \n",
    "        （整数|字符|枚举|String）{\n",
    "            case 内容：{内容满足时执行；\n",
    "            break：\n",
    "          }\n",
    "            case 内容：{内容满足时执行；\n",
    "            break：\n",
    "          }\n",
    "            case 内容：{内容满足时执行；\n",
    "            break：\n",
    "          } \n",
    "            default：{\n",
    "              内容不满足时执行的语句；\n",
    "              break：\n",
    "            }\n",
    "         }\n",
    "- 使用switch判断\n",
    "        \n",
    "        public class Test {\n",
    "           public static void main(String args[]) {\n",
    "           int ch = 2;\n",
    "             switch(ch){ // 判断的是数字\n",
    "                caes 2 ：{\n",
    "                  System.out.println(\"内容是2\");\n",
    "                  break;\n",
    "                }\n",
    "                case 1 : {\n",
    "                   System.out.println(\"内容是1\");\n",
    "                   break;\n",
    "                }\n",
    "                case 3 : {\n",
    "                    System.out.println(\"内容是3\");\n",
    "                    break;\n",
    "                }\n",
    "                default：{\n",
    "                    System.out.println(\"没有匹配内容\");\n",
    "                    break;\n",
    "                }\n",
    "              }\n",
    "            }\n",
    "          }\n",
    "- 在每一个case里面出现的break语句，表示停止case的执行，因为switch语句默认情况下会从第一个满足的case语句开始执行全部的语句代码，一直到整个switch执行完毕或者遇见break。\n",
    "- switch不能判断布尔表达式，他只能判断内容。\n",
    "- 从JDK1.7开始 switch 出现了字符串的判断，但是严格区分大小写关系。但是不建议使用\n",
    "- 判断首选if 、else"
   ]
  },
  {
   "cell_type": "markdown",
   "metadata": {},
   "source": [
    "# 循环结构\n",
    "- 当某段代码需要一直重复执行，可以使用循环结构\n",
    "- 循环必须设置循环判断条件，判断条件为 boolean 表达式\n",
    "- while循环\n",
    "    - 分为两种形式语法\n",
    "- \n",
    "        \n",
    "        while循环：\n",
    "        while （循环判断）{\n",
    "            循环语句；\n",
    "            修改循环结束条件；\n",
    "        }\n",
    "- do while 语法\n",
    "\n",
    "        do{\n",
    "            循环语句；\n",
    "            修改循环结束条件；\n",
    "        } while（循环判断）；\n",
    "- 所有循环语句里面必须有循环的初始化条件，每次循环的时候都要去修改这个条件以判断循环是否结束。\n",
    "\n",
    "        //用while循环实现1-100的累加\n",
    "        public class classname{\n",
    "            public static void main(String args[]){\n",
    "              int sum = 0;     // 保存总和\n",
    "              int current = 1;  //循环初始化条件\n",
    "              while (current <= 100){  // 循环结束条件\n",
    "                  sum += current;  // 累加\n",
    "                  current ++ ; \n",
    "              }\n",
    "              Systemt.out.println(sum);\n",
    "            }\n",
    "        }\n",
    "- while循环属于先判断条件再执行\n",
    "\n",
    "- do while 循环\n",
    "\n",
    "        public class classname{\n",
    "            public static void main(String args[]){\n",
    "              int sum = 0;     // 保存总和\n",
    "              int current = 1;  //循环初始化条件\n",
    "              do {  //循环结束条件\n",
    "                 sum += current ； //累加\n",
    "                 current ++;\n",
    "             } while(current <= 100);\n",
    "             System.out.print(sum);\n",
    "           }\n",
    "         }\n",
    "- do...while循环指的是限制性一次，再进行判断，即：不管循环条件是否满足，一定会执行至少一次\n",
    "- 开发中基本不会用到 do ...while循环"
   ]
  },
  {
   "cell_type": "markdown",
   "metadata": {},
   "source": [
    "## for 循环\n",
    "- 语法\n",
    "\n",
    "        for （循环初始化条件；循环判断；循环条件变更）{\n",
    "            循环语句；\n",
    "        }\n",
    "- 使用for循环实现1-100累加\n",
    "\n",
    "        public class classname{\n",
    "            public static void main(String args[]){\n",
    "              int sum = 0;\n",
    "                 for (int current = 1; current<= 100; current ++ ){\n",
    "        \t       sum += current;\n",
    "             }\n",
    "              System.out.print(sum);\n",
    "           }\n",
    "        }\n",
    "- 有些时候 for循环会编程以下形式编写（但不建议使用）\n",
    "\n",
    "\n",
    "        public class classname{\n",
    "            public static void main(String args[]){\n",
    "              int sum = 0;\n",
    "              int current = 1;\n",
    "                 for (;current<= 100;  ){ //用此种方法写的话，for 条件里面的分号还是要保留\n",
    "        \t       sum += current;\n",
    "                   current ++ ;\n",
    "             }\n",
    "              System.out.print(sum);\n",
    "           }\n",
    "        }\n",
    "\n",
    "    "
   ]
  },
  {
   "cell_type": "markdown",
   "metadata": {},
   "source": [
    "# 循环控制\n",
    "- 循环控制分两种语句，一种叫 continue（退出本次循环），break（退出整个循环）。与python中的一样；\n",
    "- 此类语句一定要与判断语句结合使用；"
   ]
  },
  {
   "cell_type": "markdown",
   "metadata": {},
   "source": [
    "# 总结\n",
    "- 死循环指的是每次循环时的结束条件没有改变\n",
    "- 如果不知道循环次数，但是知道循环结束条件的时候使用while循环；\n",
    "- 如果已经明确知道循环次数，使用 for 循环；\n",
    "- coutinue和break都需要与if语句结合，但是使用的频率不高；\n",
    "- 循环中可以嵌套其他循环；不是很建议在JAVA开发中使用循环嵌套；\n"
   ]
  },
  {
   "cell_type": "code",
   "execution_count": null,
   "metadata": {},
   "outputs": [],
   "source": []
  },
  {
   "cell_type": "code",
   "execution_count": null,
   "metadata": {},
   "outputs": [],
   "source": []
  },
  {
   "cell_type": "code",
   "execution_count": null,
   "metadata": {},
   "outputs": [],
   "source": []
  },
  {
   "cell_type": "code",
   "execution_count": null,
   "metadata": {},
   "outputs": [],
   "source": []
  },
  {
   "cell_type": "code",
   "execution_count": null,
   "metadata": {},
   "outputs": [],
   "source": []
  },
  {
   "cell_type": "code",
   "execution_count": null,
   "metadata": {},
   "outputs": [],
   "source": []
  },
  {
   "cell_type": "code",
   "execution_count": null,
   "metadata": {},
   "outputs": [],
   "source": []
  },
  {
   "cell_type": "code",
   "execution_count": null,
   "metadata": {},
   "outputs": [],
   "source": []
  },
  {
   "cell_type": "code",
   "execution_count": null,
   "metadata": {},
   "outputs": [],
   "source": []
  },
  {
   "cell_type": "code",
   "execution_count": null,
   "metadata": {},
   "outputs": [],
   "source": []
  },
  {
   "cell_type": "code",
   "execution_count": null,
   "metadata": {},
   "outputs": [],
   "source": []
  },
  {
   "cell_type": "code",
   "execution_count": null,
   "metadata": {},
   "outputs": [],
   "source": []
  },
  {
   "cell_type": "code",
   "execution_count": null,
   "metadata": {},
   "outputs": [],
   "source": []
  },
  {
   "cell_type": "code",
   "execution_count": null,
   "metadata": {},
   "outputs": [],
   "source": []
  },
  {
   "cell_type": "code",
   "execution_count": null,
   "metadata": {},
   "outputs": [],
   "source": []
  },
  {
   "cell_type": "code",
   "execution_count": null,
   "metadata": {},
   "outputs": [],
   "source": []
  },
  {
   "cell_type": "code",
   "execution_count": null,
   "metadata": {},
   "outputs": [],
   "source": []
  },
  {
   "cell_type": "code",
   "execution_count": null,
   "metadata": {},
   "outputs": [],
   "source": []
  },
  {
   "cell_type": "code",
   "execution_count": null,
   "metadata": {},
   "outputs": [],
   "source": []
  },
  {
   "cell_type": "code",
   "execution_count": null,
   "metadata": {},
   "outputs": [],
   "source": []
  },
  {
   "cell_type": "code",
   "execution_count": null,
   "metadata": {},
   "outputs": [],
   "source": []
  },
  {
   "cell_type": "code",
   "execution_count": null,
   "metadata": {},
   "outputs": [],
   "source": []
  },
  {
   "cell_type": "code",
   "execution_count": null,
   "metadata": {},
   "outputs": [],
   "source": []
  },
  {
   "cell_type": "code",
   "execution_count": null,
   "metadata": {},
   "outputs": [],
   "source": []
  },
  {
   "cell_type": "code",
   "execution_count": null,
   "metadata": {},
   "outputs": [],
   "source": []
  },
  {
   "cell_type": "code",
   "execution_count": null,
   "metadata": {},
   "outputs": [],
   "source": []
  }
 ],
 "metadata": {
  "kernelspec": {
   "display_name": "Python 3",
   "language": "python",
   "name": "python3"
  },
  "language_info": {
   "codemirror_mode": {
    "name": "ipython",
    "version": 3
   },
   "file_extension": ".py",
   "mimetype": "text/x-python",
   "name": "python",
   "nbconvert_exporter": "python",
   "pygments_lexer": "ipython3",
   "version": "3.6.5"
  }
 },
 "nbformat": 4,
 "nbformat_minor": 2
}
