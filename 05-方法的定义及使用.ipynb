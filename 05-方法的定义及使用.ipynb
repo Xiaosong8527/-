{
 "cells": [
  {
   "cell_type": "markdown",
   "metadata": {},
   "source": [
    "# #方法的作用及定义格式\n",
    "### 方法的基本概念\n",
    "- 一段可以重复调用的代码段，利用此操作可以封装执行的代码；\n",
    "- 在java中方法定义的语法格式比较复杂，要求指的是定义在主类之中，并且由主方法直接调用的方法；\n",
    "- 方法创建语法\n",
    "\n",
    "        public static 返回值类型 方法名称（参数类型 参数变量。。。。。）{\n",
    "\t\n",
    "\t      方法体（本方法执行的若干操作）；\n",
    "\t      [return[返回值]];\n",
    "        }\n",
    "- 上面定义格式中，发现方法有一个返回值类型，指的是这个方法返回结果，对于此类类型有两种\n",
    "    - 直接设置java中的数据类型（基本数据类型，引用数据类型）如果方法设置了返回值，必须使用 [return] 语句返回之数据类型对应的数据\n",
    "    - 方法没有返回值：void，可以不使用 return 返回内容，但是可以使用 return 结束方法调用\n",
    "- 定义一个没有参数，没有返回值的方法\n",
    "- 在定义方法名称的时候，第一个单词的首字母小写，而后每个单词的首字母大写\n",
    "\n",
    "        package PackageName; // 包名\n",
    "\n",
    "        public class hello{\n",
    "        public static void main(String args []){\n",
    "            funcName(); //直接调用方法\n",
    "        }\n",
    "            //定义没有参数与返回值的方法\n",
    "        public static void funcName(){\n",
    "            System.out.println(\"********\");\n",
    "            System.out.println(\"hello world\");\n",
    "            System.out.println(\"********\");\n",
    "            }\n",
    "        }\n",
    "        \n",
    "- 将若干代码封装在一个方法中，那么就可以根据需要重复执行这些方法所定义的代码\n",
    "- 是否要形成一个方法，并没有一个绝对的条件，\n",
    "- 如果再代码之中发现总是再对一些操作进行复制粘贴的时候就可以考虑将此类代码定义成方法以供重复调用\n",
    "- 定义一个有参数无返回值的方法\n",
    "\n",
    "        package hello;\n",
    "\n",
    "        public class hello{\n",
    "            public static void main(String args []){\n",
    "                funcName(10.0); //调用方法 时传入参数\n",
    "                funcName(-10.0);\n",
    "            }\n",
    "                //定义没有参数与返回值的方法\n",
    "            public static void funcName(double money){ // 模拟购买的方法\n",
    "                if (money > 0.0) { //现在已经给钱了\n",
    "                    System.out.println(\"可以进行支付\");\n",
    "                } else {\n",
    "                    System.out.println(\"没钱了\");\t\n",
    "                    }\n",
    "                }\n",
    "            }\n",
    "- 有了参数之后，方法就可以根据不同的参数内容进行数据的处理。\n",
    "- 定义有参数有返回值的方法\n",
    "\n",
    "\n",
    "        public class hello{\n",
    "           public static void main(String args []){\n",
    "           // 方法返回值可以进行接收\n",
    "                int result = add(10,20);\n",
    "                    System.out.println(\"计算结果\" + result);\n",
    "           // 也可以直接将方法返回值进行输出\n",
    "                    System.out.println(add(50,60));\n",
    "                }\n",
    "            public static  int add(int x, int y){\n",
    "                return x + y ;\n",
    "                }\n",
    "            }\n",
    "- 编写过程中为了节约代码可能就直接利用方法的返回结果进行输出    \n",
    "- 如果说现在一个方法上使用了 void定义为它的返回值，那么可以使用 return 结束一个方法的调用\n",
    "- 只有在方法返回值为void的前提下才可以使用"
   ]
  },
  {
   "cell_type": "markdown",
   "metadata": {},
   "source": [
    "\n",
    "\n",
    "\n",
    "\n",
    "\n",
    "\n",
    "\n",
    "\n",
    "\n",
    "\n"
   ]
  },
  {
   "cell_type": "markdown",
   "metadata": {},
   "source": []
  },
  {
   "cell_type": "code",
   "execution_count": null,
   "metadata": {},
   "outputs": [],
   "source": []
  },
  {
   "cell_type": "code",
   "execution_count": null,
   "metadata": {},
   "outputs": [],
   "source": []
  },
  {
   "cell_type": "code",
   "execution_count": null,
   "metadata": {},
   "outputs": [],
   "source": []
  },
  {
   "cell_type": "code",
   "execution_count": null,
   "metadata": {},
   "outputs": [],
   "source": []
  },
  {
   "cell_type": "code",
   "execution_count": null,
   "metadata": {},
   "outputs": [],
   "source": []
  },
  {
   "cell_type": "code",
   "execution_count": null,
   "metadata": {},
   "outputs": [],
   "source": []
  },
  {
   "cell_type": "code",
   "execution_count": null,
   "metadata": {},
   "outputs": [],
   "source": []
  },
  {
   "cell_type": "code",
   "execution_count": null,
   "metadata": {},
   "outputs": [],
   "source": []
  },
  {
   "cell_type": "code",
   "execution_count": null,
   "metadata": {},
   "outputs": [],
   "source": []
  },
  {
   "cell_type": "code",
   "execution_count": null,
   "metadata": {},
   "outputs": [],
   "source": []
  },
  {
   "cell_type": "code",
   "execution_count": null,
   "metadata": {},
   "outputs": [],
   "source": []
  },
  {
   "cell_type": "code",
   "execution_count": null,
   "metadata": {},
   "outputs": [],
   "source": []
  },
  {
   "cell_type": "code",
   "execution_count": null,
   "metadata": {},
   "outputs": [],
   "source": []
  },
  {
   "cell_type": "code",
   "execution_count": null,
   "metadata": {},
   "outputs": [],
   "source": []
  },
  {
   "cell_type": "code",
   "execution_count": null,
   "metadata": {},
   "outputs": [],
   "source": []
  },
  {
   "cell_type": "code",
   "execution_count": null,
   "metadata": {},
   "outputs": [],
   "source": []
  },
  {
   "cell_type": "code",
   "execution_count": null,
   "metadata": {},
   "outputs": [],
   "source": []
  },
  {
   "cell_type": "code",
   "execution_count": null,
   "metadata": {},
   "outputs": [],
   "source": []
  },
  {
   "cell_type": "code",
   "execution_count": null,
   "metadata": {},
   "outputs": [],
   "source": []
  },
  {
   "cell_type": "code",
   "execution_count": null,
   "metadata": {},
   "outputs": [],
   "source": []
  },
  {
   "cell_type": "code",
   "execution_count": null,
   "metadata": {},
   "outputs": [],
   "source": []
  },
  {
   "cell_type": "code",
   "execution_count": null,
   "metadata": {},
   "outputs": [],
   "source": []
  },
  {
   "cell_type": "code",
   "execution_count": null,
   "metadata": {},
   "outputs": [],
   "source": []
  },
  {
   "cell_type": "code",
   "execution_count": null,
   "metadata": {},
   "outputs": [],
   "source": []
  }
 ],
 "metadata": {
  "kernelspec": {
   "display_name": "Python 3",
   "language": "python",
   "name": "python3"
  },
  "language_info": {
   "codemirror_mode": {
    "name": "ipython",
    "version": 3
   },
   "file_extension": ".py",
   "mimetype": "text/x-python",
   "name": "python",
   "nbconvert_exporter": "python",
   "pygments_lexer": "ipython3",
   "version": "3.6.5"
  }
 },
 "nbformat": 4,
 "nbformat_minor": 2
}
