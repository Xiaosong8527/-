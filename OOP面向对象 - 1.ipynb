{
 "cells": [
  {
   "cell_type": "markdown",
   "metadata": {},
   "source": [
    "# 1. OOP - python面向对象\n",
    "- python的面向对象三大要素\n",
    "    - 封装\n",
    "    - 继承\n",
    "    - 多态\n",
    "\n",
    "- 面向对象编程\n",
    "    - 公有/私有\n",
    "    - 继承\n",
    "    - 组合，Minxi\n",
    "\n",
    "- 魔法函数\n",
    "    - 魔法函数概述\n",
    "    - 构造类魔法函数\n",
    "    - 运算类魔法函数\n",
    "\n",
    "\n",
    "\n",
    "## 2. 面向对象概述（Object oriented ，oo)\n",
    "- OOP 思想 \n",
    "    - 接触到任意一个任务，首先想到的是任务这个世界的构成，是由模型构成的\n",
    "\n",
    "- 名词\n",
    "    - OO ：面向对象\n",
    "    - OOA：面向对象的分析\n",
    "    - OOD：面向对象的设计\n",
    "    - OOI：面向对象的实现\n",
    "    - OOP：面向对象的编程\n",
    "    - OOA->OOD->OOI:面向对象的实现过程\n",
    "\n",
    "\n",
    "\n",
    "## 3.类和对象的概念\n",
    "- 类：抽象名词，代表一个集合，有一定共同特性的事物。\n",
    "\n",
    "- 对象：具体的事物，单个个体。\n",
    "\n",
    "- 类跟对象的关系：\n",
    "    - 一个具象代表一类事物的某一个个体[对象]\n",
    "    - 一个是抽象，代表的是一大类事物。[类]\n",
    "\n",
    "- 类中的内容，应该具有两个内容。\n",
    "    - 表明事物的特征，叫做属性（变量）\n",
    "    - 表明事物的功能或动作，称为：成员方法（函数）\n",
    " \n",
    " \n",
    " \n",
    "## 4.类的基本实现\n",
    "- 类的命名\n",
    "    - 遵守变量命名规范\n",
    "    - 使用大驼峰方式命名（一个或多个单词构成，每个单词首字母大写，单词跟单词直接相连）\n",
    "    - 尽量避开跟系统命名相似的命名\n",
    "\n",
    "- 如何声明一个类\n",
    "    - 必须使用关键字 ; class\n",
    "    - 类由属性（变量）和方法（函数）构成，其他不允许出现\n",
    "    - 成员属性定义可以直接使用变量赋值，如果没有值，则使用 None\n",
    "\n",
    "- 实例化类\n",
    "    - 变量 = 类名() # 实例化了一个对象\n",
    "- 访问对象成员\n",
    "    - 使用点(·）操作符，obj.成员属性名称    obj.成员方法\n",
    "- 可以通过默认内置变量检查类和对象的所有成员\n",
    "    - 对象所有成员的检查\n",
    "        - obj.__dict__    # dict前后两个下划线\n",
    "    - 类所有的成员\n",
    "        - class_name.__dict__  # dict前后两个下划线"
   ]
  },
  {
   "cell_type": "markdown",
   "metadata": {},
   "source": [
    "## 案例 01"
   ]
  },
  {
   "cell_type": "code",
   "execution_count": 1,
   "metadata": {},
   "outputs": [],
   "source": [
    "'''\n",
    "定义一个学生类，用来描述学生\n",
    "'''\n",
    "# 定义一个空的类\n",
    "class Student():\n",
    "    # 一个空类，pass代表直接跳过\n",
    "    # 此处pass必须有，否则程序报错。\n",
    "    pass"
   ]
  },
  {
   "cell_type": "code",
   "execution_count": 2,
   "metadata": {},
   "outputs": [],
   "source": [
    "# 定义一个对象\n",
    "mingyue = Student()"
   ]
  },
  {
   "cell_type": "code",
   "execution_count": 6,
   "metadata": {},
   "outputs": [
    {
     "name": "stdout",
     "output_type": "stream",
     "text": [
      "None\n",
      "18\n",
      "Hello world\n"
     ]
    }
   ],
   "source": [
    "# 再定义一个类\n",
    "class PythonStudent():\n",
    "    # 用 None 给不确定的值赋值\n",
    "    name = None\n",
    "    age = 18\n",
    "    course = \"Python\"\n",
    "    # 1. def doHomework 的缩进层级\n",
    "    # 2. 系统默认有一个 self 参数\n",
    "    def doHomework(self):\n",
    "        print(\"Hello world\")\n",
    "        # 推荐在函数末尾使用 return 语句\n",
    "        return None\n",
    "# 实例化，定义一个具体的对象\n",
    "yueyue  = PythonStudent()\n",
    "print(yueyue.name)\n",
    "print(yueyue.age)\n",
    "# 注意成员函数的调用并没有传递进入参数\n",
    "yueyue.doHomework()"
   ]
  },
  {
   "cell_type": "markdown",
   "metadata": {},
   "source": [
    "#  anaconda基本使用\n",
    "- anacongda主要是一个虚拟环境管理器\n",
    "- 还是一个安装包管理器\n",
    "    - 在 Linux 操作系统下生效\n",
    "    - anaconda常用命令\n",
    "- conda list: 显示anaconda安装的包\n",
    "- conda env list: 显示 anaconda 的虚拟环境列表\n",
    "- conda create -n xxx python=3.6 : 创建以python3.6的虚拟环境，名称为;xxx\n",
    "- source activate xxx 激活创建的虚拟环境，名称为xxx\n",
    "- source deactivate  反激活（注销）该虚拟环境"
   ]
  },
  {
   "cell_type": "code",
   "execution_count": null,
   "metadata": {},
   "outputs": [],
   "source": []
  },
  {
   "cell_type": "code",
   "execution_count": 12,
   "metadata": {},
   "outputs": [
    {
     "name": "stdout",
     "output_type": "stream",
     "text": [
      "dana\n"
     ]
    }
   ],
   "source": [
    "# \n",
    "class Stutent():\n",
    "    name = \"dana\"\n",
    "    age = 18\n",
    "    # A 类实例\n",
    "    # 查看所有内容\n",
    "    # 以键值对的方式展示\n",
    "Stutent.__dict__\n",
    "# 实例化\n",
    "yueyue = Stutent()\n",
    "# 检查yueyue成员属性\n",
    "yueyue.__dict__\n",
    "print(yueyue.name)\n"
   ]
  },
  {
   "cell_type": "code",
   "execution_count": 15,
   "metadata": {},
   "outputs": [
    {
     "name": "stdout",
     "output_type": "stream",
     "text": [
      "dana\n",
      "18\n",
      "********************\n",
      "2297716442928\n",
      "1734766176\n",
      "********************\n",
      "dana\n",
      "18\n",
      "2297716442928\n",
      "1734766176\n",
      "********************\n"
     ]
    }
   ],
   "source": [
    "class A():\n",
    "    name = \"dana\"\n",
    "    age = 18\n",
    "    # 注意say的参数有一个self\n",
    "    def say(self):\n",
    "        self.name = \"aaaa\"\n",
    "        self.age = 200\n",
    "# 说明类实例的属性和对象的实例的属性在不对对象的实例属性赋值的前提下\n",
    "# 指向同一个变量\n",
    "        \n",
    "        \n",
    "# 此时，A称为类的实例\n",
    "print(A.name)\n",
    "print(A.age)\n",
    "\n",
    "print(\"*\"*20)\n",
    "\n",
    "# id可以鉴别一个变量是否和另一个变量是同一变量\n",
    "print(id(A.name))\n",
    "print(id(A.age))\n",
    "\n",
    "print(\"*\"*20)\n",
    "\n",
    "\n",
    "a = A()\n",
    "\n",
    "print(a.name)\n",
    "print(a.age)\n",
    "\n",
    "print(id(a.name))\n",
    "print(id(a.age))\n",
    "\n",
    "print(\"*\"*20)\n"
   ]
  },
  {
   "cell_type": "code",
   "execution_count": 19,
   "metadata": {},
   "outputs": [
    {
     "name": "stdout",
     "output_type": "stream",
     "text": [
      "dana\n",
      "18\n",
      "********************\n",
      "2297716442928\n",
      "1734766176\n",
      "********************\n",
      "{'__module__': '__main__', 'name': 'dana', 'age': 18, 'say': <function A.say at 0x00000216FB333D90>, '__dict__': <attribute '__dict__' of 'A' objects>, '__weakref__': <attribute '__weakref__' of 'A' objects>, '__doc__': None}\n",
      "{}\n",
      "{'name': 'yaona', 'age': 16}\n",
      "yaona\n",
      "16\n",
      "2297727053696\n",
      "1734766112\n"
     ]
    }
   ],
   "source": [
    "# 此时，A称为类的实例\n",
    "print(A.name)\n",
    "print(A.age)\n",
    "\n",
    "print(\"*\"*20)\n",
    "\n",
    "# id可以鉴别一个变量是否和另一个变量是同一变量\n",
    "print(id(A.name))\n",
    "print(id(A.age))\n",
    "\n",
    "print(\"*\"*20)\n",
    "\n",
    "\n",
    "a = A()\n",
    "\n",
    "#查看A内所有的属性\n",
    "print(A.__dict__)\n",
    "print(a.__dict__)\n",
    "\n",
    "a.name = \"yaona\"\n",
    "a.age = 16\n",
    "print(a.__dict__)\n",
    "print(a.name)\n",
    "print(a.age)\n",
    "\n",
    "print(id(a.name))\n",
    "print(id(a.age))\n"
   ]
  },
  {
   "cell_type": "markdown",
   "metadata": {},
   "source": [
    "### 类的专有方法\n",
    "- __init__:构造函数，在生成对象时调用\n",
    "- __del__: 析构函数，释放对象时使用\n",
    "- __repr__: 打印，转换\n",
    "- __setitem__: 按照索引赋值\n",
    "- __getitem__: 按照索引获取值\n",
    "- __len__: 获取长度\n",
    "- __cmp__: 比较运算\n",
    "- __call__: 函数调用\n",
    "- __add__: 加运算\n",
    "- __sub__: 减运算\n",
    "- __mul__: 乘运算\n",
    "- __div__: 除运算\n",
    "- __mod__: 求余运算\n",
    "- __pow__: 乘方"
   ]
  },
  {
   "cell_type": "markdown",
   "metadata": {},
   "source": [
    "## 5.类和对象的成员分析\n",
    "- 类和对象都可以存储成员，成员可以归类所有，也可以归对象所有\n",
    "- 类存储成员时使用给的是与类关联的一个对象\n",
    "- 独享存储成员时是存储在当前对象中\n",
    "- 对象访问一个成员的时候，如果对象中没有该成员，尝试访问类中的同名成员\n",
    "- 如果对象中有此成员，一定是用对象中的成员"
   ]
  },
  {
   "cell_type": "code",
   "execution_count": 1,
   "metadata": {},
   "outputs": [
    {
     "data": {
      "text/plain": [
       "mappingproxy({'__module__': '__main__',\n",
       "              'name': 'dana',\n",
       "              'age': 18,\n",
       "              '__dict__': <attribute '__dict__' of 'Student' objects>,\n",
       "              '__weakref__': <attribute '__weakref__' of 'Student' objects>,\n",
       "              '__doc__': None})"
      ]
     },
     "execution_count": 1,
     "metadata": {},
     "output_type": "execute_result"
    }
   ],
   "source": [
    "# 类的实例化\n",
    "class Student():\n",
    "    name = \"dana\"\n",
    "    age = 18\n",
    "Student.__dict__\n",
    "# 实例化\n",
    "yueyue  = Student()\n",
    "yueyue.__dict__\n",
    "\n"
   ]
  },
  {
   "cell_type": "code",
   "execution_count": 4,
   "metadata": {},
   "outputs": [
    {
     "name": "stdout",
     "output_type": "stream",
     "text": [
      "dana\n",
      "18\n",
      "********************\n",
      "2702094397880\n",
      "1734766176\n",
      "********************\n",
      "dana\n",
      "18\n",
      "********************\n",
      "2702094397880\n",
      "1734766176\n"
     ]
    }
   ],
   "source": [
    "class A():\n",
    "    name = \"dana\"\n",
    "    age = 18\n",
    "    #注意say写法，参数有一个self\n",
    "    def say(self):\n",
    "        self.name = \"aaaa\"\n",
    "        self.age = 200\n",
    "# 此时，A称为 类实例        \n",
    "print(A.name)\n",
    "print(A.age)\n",
    "\n",
    "print(\"*\"*20)\n",
    "\n",
    "print(id(A.name))\n",
    "print(id(A.age))\n",
    "\n",
    "print(\"*\"*20)\n",
    "\n",
    "a = A() \n",
    "print(a.name)\n",
    "print(a.age)\n",
    "\n",
    "print(\"*\"*20)\n",
    "\n",
    "print(id(a.name))\n",
    "print(id(a.age))\n"
   ]
  },
  {
   "cell_type": "markdown",
   "metadata": {},
   "source": [
    "## 6.封装\n",
    "- 封装就是对对象的成员进行访问限制\n",
    "- 封装的三个级别\n",
    "    - 公开，public\n",
    "    - 受保护的，proteced\n",
    "    - 私有的，private\n",
    "    - public，proteced，private不是关键字\n",
    "- 判断对象的位置\n",
    "    - 对象内部\n",
    "    - 对象外部\n",
    "    - 子类中\n",
    "- 私有\n",
    "    - 私有成员是最高级别的封装，只能在当前类或者对象中访问\n",
    "    - 在成员前面添加两个下划线即可\n",
    "    \n",
    "        class Person():\n",
    "            # name 是共有的成员\n",
    "            name = \"liuying\"\n",
    "            # __age就是私有成员\n",
    "            age = 18\n",
    "    - python中的私有不是真私有，是一种称为class mangling的改名策略，可以使用对象\n",
    "    ._classname_attributename访问\n",
    "    \n",
    "- 受保护的封装 protected\n",
    "    - 受保护的封装是将对象成员进行一定级别的封装，然后再类中或者子类中都\n",
    "    可以进行访问，但是再外部不可以。\n",
    "    - 封装方法：再成员名称前面添加一个下划线\n",
    "- 公开的，公共的 public\n",
    "    - 公共的封装实际对成员没有人格操作，任何地方都可以访问。\n",
    "- 变量名称前一个下划线表示受保护对象\n",
    "- 变量名称前两个下划线表示私有成员"
   ]
  },
  {
   "cell_type": "markdown",
   "metadata": {},
   "source": [
    "## 7.继承\n",
    "- 继承就是一个类可以获得另外一个类中的成员属性和成员方法。\n",
    "- 作用：减少代码，增加代码的复用功能，同时可以设置类与类直接的关系\n",
    "- 继承与被继承的关系概念：\n",
    "    - 被继承的类叫做父类，也叫做基类，也叫超类\n",
    "    - 用于继承的类叫子类，也叫派生类。\n",
    "    - 继承与被继承一定存在一个 is-a 关系\n",
    "   "
   ]
  },
  {
   "cell_type": "markdown",
   "metadata": {},
   "source": [
    "## 7.1继承的语法"
   ]
  },
  {
   "cell_type": "code",
   "execution_count": 10,
   "metadata": {},
   "outputs": [
    {
     "name": "stdout",
     "output_type": "stream",
     "text": [
      "No name\n",
      "No name\n"
     ]
    }
   ],
   "source": [
    "# 继承的语法\n",
    "# 在python中，任何类都有一个共同的父类叫 object\n",
    "class Person():\n",
    "    name = \"No name\"\n",
    "    age = 0\n",
    "    def sleep(self):\n",
    "        print(\"sleeping... ...\")\n",
    "\n",
    "# 父类写在括号里        \n",
    "class Teacher(Person):\n",
    "    pass\n",
    "t = Teacher()\n",
    "print(t.name)\n",
    "print(Teacher.name)"
   ]
  },
  {
   "cell_type": "markdown",
   "metadata": {},
   "source": [
    "## 7.2继承的特征\n",
    "- 所有的类都继承自object，即所有的类都是object的子类\n",
    "- 子类一旦继承父类，则可以使用父类中除私有成员外的所有内容\n",
    "- 子类继承父类后并没有将父类成员完全赋值到子类中，而是通过引用关系访问调用\n",
    "- 子类中可以定义独有的成员属性和方法\n",
    "- 子类中定义的成员和父类成员如果相同，则优先使用子类成员\n",
    "- 子类如果想扩充父类的方法，可以在定义新方法的同时访问父类成员来进行代码重用\n",
    "- 可以使用，[父类名.父类成员] 的格式来调用父类成员，也可以使用 [super().父类成员] 的方式来调用\n",
    "\n",
    "        class ClassNmane(object):\n",
    "            pass"
   ]
  },
  {
   "cell_type": "code",
   "execution_count": null,
   "metadata": {},
   "outputs": [],
   "source": [
    "# 子类中可以定义独有的成员属性和方法\n",
    "class Person():\n",
    "    name = \"No name\"\n",
    "    age = 0\n",
    "    def sleep(self):\n",
    "        print(\"sleeping... ...\")\n",
    "\n",
    "# 父类写在括号里        \n",
    "class Teacher(Person):\n",
    "    def make_test(self):\n",
    "        pass\n",
    "t = Teacher()\n",
    "print(t.name)\n",
    "print(Teacher.name)"
   ]
  },
  {
   "cell_type": "markdown",
   "metadata": {},
   "source": [
    "### 7.3 继承变量函数的查找顺序问题\n",
    "- 任何情况下，都是优先查找自己的变量\n",
    "- 没有则查找父类\n",
    "- 构造函数如果本类中没有定义，则自动查找调用父类构造函数\n",
    "- 如果本类又定义，则不再继续向上查找\n"
   ]
  },
  {
   "cell_type": "markdown",
   "metadata": {},
   "source": [
    "## 7.4 构造函数\n",
    "- 构造函数是一类特殊的函数，在类进行实例化之前进行调用\n",
    "- 如果定义了构造函数，则实例化时使用构造函数，不查找父类构造函数\n",
    "- 如果没定义，则自动查找父类构造函数\n",
    "- 如果子类没定义，父类的构造函数带参数，则构造对象该按父类参数构造"
   ]
  },
  {
   "cell_type": "code",
   "execution_count": 12,
   "metadata": {},
   "outputs": [
    {
     "name": "stdout",
     "output_type": "stream",
     "text": [
      "I am init in dog\n"
     ]
    }
   ],
   "source": [
    "# 构造函数\n",
    "class Dog():\n",
    "    #  __init__就是构造函数\n",
    "    # 每次实例化的时候，第一个被自动调用\n",
    "    # 因为主要工作是进行初始化，所以取名构造函数\n",
    "    # 构造函数的写法是固定的\n",
    "    # 第一个参数一定是 self\n",
    "    def __init__(self):\n",
    "        print(\"I am init in dog\")\n",
    "kaka = Dog() # 只是实例化，人为并没有调用函数，在执行代码后自动调用了构造函数"
   ]
  },
  {
   "cell_type": "code",
   "execution_count": 15,
   "metadata": {},
   "outputs": [
    {
     "name": "stdout",
     "output_type": "stream",
     "text": [
      "I am init in dog\n"
     ]
    }
   ],
   "source": [
    "# 继承中的构造函数 - 1\n",
    "class Animel():\n",
    "    pass\n",
    "\n",
    "class PaxingAnimel(Animel):\n",
    "    pass\n",
    "\n",
    "class Dog(PaxingAnimel):\n",
    "    #  __init__就是构造函数\n",
    "    # 每次实例化的时候，第一个被自动调用\n",
    "    # 因为主要工作是进行初始化，所以取名构造函数\n",
    "    # 构造函数的写法是固定的\n",
    "    # 第一个参数一定是 self\n",
    "    def __init__(self):\n",
    "        print(\"I am init in dog\")\n",
    "# 实例化的时候，括号内的参数需要跟构造函数的参数匹配 \n",
    "# 此处是 self ，默认把 kaka 作为第一个参数\n",
    "# \n",
    "kaka = Dog()\n"
   ]
  },
  {
   "cell_type": "code",
   "execution_count": 17,
   "metadata": {},
   "outputs": [
    {
     "name": "stdout",
     "output_type": "stream",
     "text": [
      "I am init in dog\n",
      "paxingdongwu\n"
     ]
    }
   ],
   "source": [
    "# 继承中的构造函数 - 2\n",
    "class Animel():\n",
    "    def __init__(self):\n",
    "        print(\"Animel\")\n",
    "\n",
    "class PaxingAnimel(Animel):\n",
    "    def __init__(self):\n",
    "        print(\"paxingdongwu\")\n",
    "\n",
    "class Dog(PaxingAnimel):\n",
    "    #  __init__就是构造函数\n",
    "    # 每次实例化的时候，第一个被自动调用\n",
    "    # 因为主要工作是进行初始化，所以取名构造函数\n",
    "    # 构造函数的写法是固定的\n",
    "    # 第一个参数一定是 self\n",
    "    def __init__(self):\n",
    "        print(\"I am init in dog\")\n",
    "# 实例化的时候，自动调用了 Dog的构造函数\n",
    "# 在Dog中找到了构造函数，则不再查找父类的构造函数\n",
    "kaka = Dog()\n",
    "# Cat 中没写构造函数\n",
    "class Cat(PaxingAnimel):\n",
    "    pass\n",
    "# 实例化的时候，没有在Cat中找到构造函数，则查找父类中的构造函数\n",
    "# 在最近的父类中找到构造函数则不再继续向上查找\n",
    "c = Cat()"
   ]
  },
  {
   "cell_type": "code",
   "execution_count": 19,
   "metadata": {},
   "outputs": [
    {
     "name": "stdout",
     "output_type": "stream",
     "text": [
      "I am init in dog\n"
     ]
    },
    {
     "ename": "TypeError",
     "evalue": "__init__() missing 1 required positional argument: 'name'",
     "output_type": "error",
     "traceback": [
      "\u001b[1;31m---------------------------------------------------------------------------\u001b[0m",
      "\u001b[1;31mTypeError\u001b[0m                                 Traceback (most recent call last)",
      "\u001b[1;32m<ipython-input-19-24dda320d60a>\u001b[0m in \u001b[0;36m<module>\u001b[1;34m()\u001b[0m\n\u001b[0;32m     16\u001b[0m     \u001b[1;32mpass\u001b[0m\u001b[1;33m\u001b[0m\u001b[0m\n\u001b[0;32m     17\u001b[0m \u001b[1;31m#\u001b[0m\u001b[1;33m\u001b[0m\u001b[1;33m\u001b[0m\u001b[0m\n\u001b[1;32m---> 18\u001b[1;33m \u001b[0mc\u001b[0m \u001b[1;33m=\u001b[0m \u001b[0mCat\u001b[0m\u001b[1;33m(\u001b[0m\u001b[1;33m)\u001b[0m\u001b[1;33m\u001b[0m\u001b[0m\n\u001b[0m",
      "\u001b[1;31mTypeError\u001b[0m: __init__() missing 1 required positional argument: 'name'"
     ]
    }
   ],
   "source": [
    "# 继承中的构造函数 - 3\n",
    "class Animel():\n",
    "    def __init__(self):\n",
    "        print(\"Animel\")\n",
    "\n",
    "class PaxingAnimel(Animel):\n",
    "    def __init__(self, name):\n",
    "        print(\"paxingdongwu{0}\".format(name))\n",
    "class Dog(PaxingAnimel):\n",
    "    def __init__(self):\n",
    "        print(\"I am init in dog\")\n",
    "# 实例化Dog的时候，查找到Dog的构造函数，参数匹配，不报错\n",
    "\n",
    "d = Dog()\n",
    "class Cat(PaxingAnimel):\n",
    "    pass\n",
    "# 此时，由于Cat没有构造函数，则向上那查找\n",
    "# 因为 PaxingAnimelde 构造函数需要两个参数，实例化给了一个参数，报错\n",
    "# TypeError: __init__() missing 1 required positional argument: 'name'\n",
    "c = Cat()"
   ]
  },
  {
   "cell_type": "code",
   "execution_count": 20,
   "metadata": {},
   "outputs": [
    {
     "name": "stdout",
     "output_type": "stream",
     "text": [
      "Animel\n",
      "Animel\n"
     ]
    }
   ],
   "source": [
    "# 继承中的构造函数 - 4\n",
    "class Animel():\n",
    "    def __init__(self):\n",
    "        print(\"Animel\")\n",
    "\n",
    "class PaxingAnimel(Animel):\n",
    "    pass\n",
    "\n",
    "class Dog(PaxingAnimel):\n",
    "    pass\n",
    "\n",
    "class Cat(PaxingAnimel):\n",
    "    pass\n",
    "\n",
    "d = Dog()\n",
    "c = Cat()"
   ]
  },
  {
   "cell_type": "code",
   "execution_count": null,
   "metadata": {},
   "outputs": [],
   "source": []
  },
  {
   "cell_type": "markdown",
   "metadata": {},
   "source": [
    "## super\n",
    "- super不是关键字，而是一个类\n",
    "- super 的作用时获取MRO （MethodResolusOrder)（方法解析顺序） 列表中的第一个类\n",
    "- super 与父类没有任何实质性的关系，但是通过super 可以调用到父类\n"
   ]
  },
  {
   "cell_type": "code",
   "execution_count": 23,
   "metadata": {},
   "outputs": [],
   "source": [
    "print(type(super))\n",
    "print(help(super))"
   ]
  },
  {
   "cell_type": "code",
   "execution_count": null,
   "metadata": {},
   "outputs": [],
   "source": [
    "class Person():\n",
    "    name = \"No name\"\n",
    "    age = 18\n",
    "    __score = 0 # 私有成员\n",
    "    _petname = \"sec\"  # 受保护成员\n",
    "    def sleep(self):\n",
    "        print(\"sleeping....\")\n",
    "    def work(self):\n",
    "        print(\"make some money\")\n",
    "class Teacher(Person):  # 父类写在括号里\n",
    "    teacher_id = \"9527\"\n",
    "    name = \"xiaoyouxin\"\n",
    "    def make_test(self):\n",
    "        print(\"attention\")\n",
    "        \n",
    "    def work(self):   # 这是父类中的元素\n",
    "        # 扩充父类的功能只需要调用父类相应的函数\n",
    "        Person.work(self)\n",
    "        self.make_test()"
   ]
  },
  {
   "cell_type": "code",
   "execution_count": null,
   "metadata": {},
   "outputs": [],
   "source": [
    "# 使用super，super代表得到父类\n",
    "        super().work()\n",
    "        self.make_test()"
   ]
  },
  {
   "cell_type": "code",
   "execution_count": null,
   "metadata": {},
   "outputs": [],
   "source": []
  },
  {
   "cell_type": "code",
   "execution_count": null,
   "metadata": {},
   "outputs": [],
   "source": []
  },
  {
   "cell_type": "code",
   "execution_count": null,
   "metadata": {},
   "outputs": [],
   "source": []
  },
  {
   "cell_type": "code",
   "execution_count": null,
   "metadata": {},
   "outputs": [],
   "source": []
  },
  {
   "cell_type": "code",
   "execution_count": null,
   "metadata": {},
   "outputs": [],
   "source": []
  },
  {
   "cell_type": "code",
   "execution_count": null,
   "metadata": {},
   "outputs": [],
   "source": []
  },
  {
   "cell_type": "code",
   "execution_count": null,
   "metadata": {},
   "outputs": [],
   "source": []
  },
  {
   "cell_type": "code",
   "execution_count": null,
   "metadata": {},
   "outputs": [],
   "source": []
  },
  {
   "cell_type": "code",
   "execution_count": null,
   "metadata": {},
   "outputs": [],
   "source": []
  },
  {
   "cell_type": "code",
   "execution_count": null,
   "metadata": {},
   "outputs": [],
   "source": []
  },
  {
   "cell_type": "code",
   "execution_count": null,
   "metadata": {},
   "outputs": [],
   "source": []
  },
  {
   "cell_type": "code",
   "execution_count": null,
   "metadata": {},
   "outputs": [],
   "source": []
  }
 ],
 "metadata": {
  "kernelspec": {
   "display_name": "Python 3",
   "language": "python",
   "name": "python3"
  },
  "language_info": {
   "codemirror_mode": {
    "name": "ipython",
    "version": 3
   },
   "file_extension": ".py",
   "mimetype": "text/x-python",
   "name": "python",
   "nbconvert_exporter": "python",
   "pygments_lexer": "ipython3",
   "version": "3.6.5"
  }
 },
 "nbformat": 4,
 "nbformat_minor": 2
}
