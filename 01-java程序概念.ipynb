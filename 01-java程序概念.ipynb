{
 "cells": [
  {
   "cell_type": "markdown",
   "metadata": {},
   "source": [
    "## java注释\n",
    "- //  ：表示单行注释\n",
    "- /*...*/ ：表示多行注释\n",
    "- /**...*/ : 表示文档注释\n",
    "- 尽可能使用单行注释，原因是一些开发工具中，多行注释的格式化后的效果不好\n",
    "- 对于文档注释，需要有开发工具的支持后才能更好的编写"
   ]
  },
  {
   "cell_type": "markdown",
   "metadata": {},
   "source": [
    "## java标识符与关键字\n",
    "\n",
    "        public class className{\n",
    "        \n",
    "        \n",
    "        }\n",
    "- 类名称就属于一个标识符的内容\n",
    "- 属性名称，方法名称等也都称为标识符\n",
    "- 标识符基本要求如下：\n",
    "    - 标识符由字母 下划线 数字 _ 和美元符号所组成，其中不能以数字开头\n",
    "    - 不能是java中的保留字与关键字\n",
    "- 再编写的时候尽量不要使用数字\n",
    "- 命名尽量有意义\n",
    "- 对于美元符号有特殊意义，不要随意使用\n",
    "- 对于所有给出的关键字：\n",
    "    - java有两个未使用到的关键字：goto ； const\n",
    "    - java有三个特殊含义的标记，Ture，false，null\n",
    "    - JDK 1.4后增加了assert关键字\n",
    "    - JDK 1.5后增加了enum关键字\n",
    "- java本身完全支持中文\n",
    "- 避免出现未知的错误，变量/常量命名尽量不要使用中文"
   ]
  },
  {
   "cell_type": "markdown",
   "metadata": {},
   "source": [
    "## 总结\n",
    "\n",
    "- 每个版本的java都有新特性，但是新特性保守使用\n",
    "- java标识符命名尽量以数字；字母，_ ； 美元符号为主\n"
   ]
  },
  {
   "cell_type": "code",
   "execution_count": null,
   "metadata": {},
   "outputs": [],
   "source": []
  },
  {
   "cell_type": "code",
   "execution_count": null,
   "metadata": {},
   "outputs": [],
   "source": []
  },
  {
   "cell_type": "code",
   "execution_count": null,
   "metadata": {},
   "outputs": [],
   "source": []
  },
  {
   "cell_type": "code",
   "execution_count": null,
   "metadata": {},
   "outputs": [],
   "source": []
  },
  {
   "cell_type": "code",
   "execution_count": null,
   "metadata": {},
   "outputs": [],
   "source": []
  },
  {
   "cell_type": "code",
   "execution_count": null,
   "metadata": {},
   "outputs": [],
   "source": []
  },
  {
   "cell_type": "code",
   "execution_count": null,
   "metadata": {},
   "outputs": [],
   "source": []
  },
  {
   "cell_type": "code",
   "execution_count": null,
   "metadata": {},
   "outputs": [],
   "source": []
  },
  {
   "cell_type": "code",
   "execution_count": null,
   "metadata": {},
   "outputs": [],
   "source": []
  },
  {
   "cell_type": "code",
   "execution_count": null,
   "metadata": {},
   "outputs": [],
   "source": []
  },
  {
   "cell_type": "code",
   "execution_count": null,
   "metadata": {},
   "outputs": [],
   "source": []
  },
  {
   "cell_type": "code",
   "execution_count": null,
   "metadata": {},
   "outputs": [],
   "source": []
  },
  {
   "cell_type": "code",
   "execution_count": null,
   "metadata": {},
   "outputs": [],
   "source": []
  },
  {
   "cell_type": "code",
   "execution_count": null,
   "metadata": {},
   "outputs": [],
   "source": []
  },
  {
   "cell_type": "code",
   "execution_count": null,
   "metadata": {},
   "outputs": [],
   "source": []
  },
  {
   "cell_type": "code",
   "execution_count": null,
   "metadata": {},
   "outputs": [],
   "source": []
  },
  {
   "cell_type": "code",
   "execution_count": null,
   "metadata": {},
   "outputs": [],
   "source": []
  },
  {
   "cell_type": "code",
   "execution_count": null,
   "metadata": {},
   "outputs": [],
   "source": []
  },
  {
   "cell_type": "code",
   "execution_count": null,
   "metadata": {},
   "outputs": [],
   "source": []
  }
 ],
 "metadata": {
  "kernelspec": {
   "display_name": "Python 3",
   "language": "python",
   "name": "python3"
  },
  "language_info": {
   "codemirror_mode": {
    "name": "ipython",
    "version": 3
   },
   "file_extension": ".py",
   "mimetype": "text/x-python",
   "name": "python",
   "nbconvert_exporter": "python",
   "pygments_lexer": "ipython3",
   "version": "3.6.5"
  }
 },
 "nbformat": 4,
 "nbformat_minor": 2
}
